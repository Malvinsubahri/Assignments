{
 "cells": [
  {
   "cell_type": "code",
   "execution_count": 44,
   "metadata": {},
   "outputs": [
    {
     "name": "stdout",
     "output_type": "stream",
     "text": [
      "Hasil Celcius ke Kelvin 273.15 \n",
      "Hasil Kelvin ke Celcius -273.15\n"
     ]
    }
   ],
   "source": [
    "def convert1 (celcius, kelvin):\n",
    "    cel_to_kel = celcius + 273.15\n",
    "    kel_to_cel = kelvin - 273.15\n",
    "    print (\"Hasil Celcius ke Kelvin\", cel_to_kel, \"\\nHasil Kelvin ke Celcius\", kel_to_cel)\n",
    "\n",
    "convert1 (0,0)"
   ]
  },
  {
   "cell_type": "code",
   "execution_count": 43,
   "metadata": {},
   "outputs": [
    {
     "name": "stdout",
     "output_type": "stream",
     "text": [
      "Hasil Celcius ke Kelvin 273 \n",
      "Hasil Kelvin ke Celcius -273\n",
      "Hasil Celcius ke Fahrenheit 32.0 \n",
      "Hasil Kelvin ke Fahrenheit 32.0\n"
     ]
    }
   ],
   "source": [
    "def convert2 (celcius, kelvin):\n",
    "    cel_to_fah = (9/5 * celcius) + 32\n",
    "    kel_to_fah = 9/5 * (kelvin - 273.15) +32\n",
    "    print ('Hasil Celcius ke Fahrenheit', cel_to_fah, \"\\nHasil Kelvin ke Fahrenheit\", kel_to_fah)\n",
    "\n",
    "convert1 (0,0)\n",
    "convert2 (0,273.15)"
   ]
  },
  {
   "cell_type": "code",
   "execution_count": 45,
   "metadata": {},
   "outputs": [
    {
     "name": "stdout",
     "output_type": "stream",
     "text": [
      "Hasil Celcius ke Kelvin 273.15 \n",
      "Hasil Kelvin ke Celcius -273.15\n",
      "Hasil Celcius ke Fahrenheit 32.0 \n",
      "Hasil Kelvin ke Fahrenheit 32.0\n",
      "Hasil Fahrenheit ke Celcius 0.0 \n",
      "Hasil Fahrenheit ke Kelvin 273.15\n"
     ]
    }
   ],
   "source": [
    "def convert3 (fahrenheit):\n",
    "    fah_to_cel = (fahrenheit - 32) * 5/9\n",
    "    fah_to_kel = fah_to_cel + 273.15\n",
    "    print ('Hasil Fahrenheit ke Celcius', fah_to_cel, \"\\nHasil Fahrenheit ke Kelvin\", fah_to_kel)\n",
    "\n",
    "convert1 (0,0)\n",
    "convert2 (0,273.15)\n",
    "convert3 (32)"
   ]
  }
 ],
 "metadata": {
  "interpreter": {
   "hash": "07efbfc3fa60b6f7a210a1a1b4865506d8a35fbfa4372b150ca8bad4187f87fe"
  },
  "kernelspec": {
   "display_name": "Python 3.10.4 64-bit",
   "language": "python",
   "name": "python3"
  },
  "language_info": {
   "codemirror_mode": {
    "name": "ipython",
    "version": 3
   },
   "file_extension": ".py",
   "mimetype": "text/x-python",
   "name": "python",
   "nbconvert_exporter": "python",
   "pygments_lexer": "ipython3",
   "version": "3.10.4"
  },
  "orig_nbformat": 4
 },
 "nbformat": 4,
 "nbformat_minor": 2
}
