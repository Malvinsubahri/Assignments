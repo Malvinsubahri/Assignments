{
 "cells": [
  {
   "cell_type": "code",
   "execution_count": 2,
   "metadata": {},
   "outputs": [],
   "source": [
    "import numpy as np"
   ]
  },
  {
   "cell_type": "code",
   "execution_count": 3,
   "metadata": {},
   "outputs": [],
   "source": [
    "# Buatlah Tensor di bawah ini dengan Python:\n",
    "t1 = np.array ([[23, 50],\n",
    "               [7, 12]])\n",
    "\n",
    "t2 = np.array ([[57, 67],\n",
    "               [99, 43]])\n",
    "\n",
    "t3 = np.array ([[75, 21],\n",
    "               [57, 12]])\n",
    "               \n",
    "t4 = np.array ([[87, 26],\n",
    "               [18, 84]])              "
   ]
  },
  {
   "cell_type": "code",
   "execution_count": 4,
   "metadata": {},
   "outputs": [
    {
     "data": {
      "text/plain": [
       "array([[[23, 50],\n",
       "        [ 7, 12]],\n",
       "\n",
       "       [[57, 67],\n",
       "        [99, 43]],\n",
       "\n",
       "       [[75, 21],\n",
       "        [57, 12]],\n",
       "\n",
       "       [[87, 26],\n",
       "        [18, 84]]])"
      ]
     },
     "execution_count": 4,
     "metadata": {},
     "output_type": "execute_result"
    }
   ],
   "source": [
    "tensor = np.array ([t1, t2, t3, t4])\n",
    "tensor"
   ]
  },
  {
   "cell_type": "code",
   "execution_count": 5,
   "metadata": {},
   "outputs": [],
   "source": [
    "# Lakukan perkalian terhadap matrix berikut: \n",
    "a = np.array ([[23, 50, 19],\n",
    "               [7, 12, 109],\n",
    "               [57, 67, 98]]) # a (3,3)\n",
    "\n",
    "b = np.array ([[17, 22, 19]]) # b (1,3)\n",
    "\n",
    "# perkalian matriks a @ b tidak bisa karena jumlah kolom a != jumlah baris b\n",
    "# perkalian matriks yang bisa b @ a karena jumlah kolom b == jumlah baris a"
   ]
  },
  {
   "cell_type": "code",
   "execution_count": 7,
   "metadata": {},
   "outputs": [
    {
     "data": {
      "text/plain": [
       "array([[1628, 2387, 4583]])"
      ]
     },
     "execution_count": 7,
     "metadata": {},
     "output_type": "execute_result"
    }
   ],
   "source": [
    "b @ a"
   ]
  },
  {
   "cell_type": "code",
   "execution_count": 9,
   "metadata": {},
   "outputs": [
    {
     "data": {
      "text/plain": [
       "array([[ 23,   7,  57],\n",
       "       [ 50,  12,  67],\n",
       "       [ 19, 109,  98]])"
      ]
     },
     "execution_count": 9,
     "metadata": {},
     "output_type": "execute_result"
    }
   ],
   "source": [
    "# Lakukan Transpose, hitung determinan, dan inverse terhadap matrix dibawah ini:\n",
    "a = np.array ([[23, 50, 19],\n",
    "               [7, 12, 109],\n",
    "               [57, 67, 98]])\n",
    "a.T # Transpose  a"
   ]
  },
  {
   "cell_type": "code",
   "execution_count": 10,
   "metadata": {},
   "outputs": [
    {
     "data": {
      "text/plain": [
       "131344.0000000002"
      ]
     },
     "execution_count": 10,
     "metadata": {},
     "output_type": "execute_result"
    }
   ],
   "source": [
    "np.linalg.det (a) # Determinan a"
   ]
  },
  {
   "cell_type": "code",
   "execution_count": 12,
   "metadata": {},
   "outputs": [
    {
     "data": {
      "text/plain": [
       "array([[-0.0466485 , -0.02761451,  0.03975819],\n",
       "       [ 0.04208034,  0.00891552, -0.01807467],\n",
       "       [-0.00163692,  0.0099662 , -0.00056341]])"
      ]
     },
     "execution_count": 12,
     "metadata": {},
     "output_type": "execute_result"
    }
   ],
   "source": [
    "a_inv = np.linalg.inv (a)\n",
    "a_inv # Inverse a"
   ]
  },
  {
   "cell_type": "code",
   "execution_count": 13,
   "metadata": {},
   "outputs": [
    {
     "data": {
      "text/plain": [
       "array([[1.00000000e+00, 1.90819582e-17, 1.32923186e-16],\n",
       "       [7.22078647e-17, 1.00000000e+00, 5.44269491e-17],\n",
       "       [6.73506390e-16, 1.97758476e-16, 1.00000000e+00]])"
      ]
     },
     "execution_count": 13,
     "metadata": {},
     "output_type": "execute_result"
    }
   ],
   "source": [
    "# Jika a @ a_inv maka hasilnya adalah matrix identitas\n",
    "a @ a_inv"
   ]
  }
 ],
 "metadata": {
  "interpreter": {
   "hash": "07efbfc3fa60b6f7a210a1a1b4865506d8a35fbfa4372b150ca8bad4187f87fe"
  },
  "kernelspec": {
   "display_name": "Python 3.10.4 64-bit",
   "language": "python",
   "name": "python3"
  },
  "language_info": {
   "codemirror_mode": {
    "name": "ipython",
    "version": 3
   },
   "file_extension": ".py",
   "mimetype": "text/x-python",
   "name": "python",
   "nbconvert_exporter": "python",
   "pygments_lexer": "ipython3",
   "version": "3.10.4"
  },
  "orig_nbformat": 4
 },
 "nbformat": 4,
 "nbformat_minor": 2
}
