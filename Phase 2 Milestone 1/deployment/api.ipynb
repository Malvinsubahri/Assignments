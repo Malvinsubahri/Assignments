{
 "cells": [
  {
   "cell_type": "markdown",
   "id": "c905ba79",
   "metadata": {},
   "source": [
    "## Tabular Features"
   ]
  },
  {
   "cell_type": "code",
   "execution_count": 1,
   "id": "fac41fe9",
   "metadata": {},
   "outputs": [],
   "source": [
    "new_data = [[0.0,\n",
    "  0.8024197271773763,\n",
    "  -1.4728119338970869,\n",
    "  0.0,\n",
    "  1.0,\n",
    "  0.0,\n",
    "  1.0,\n",
    "  0.0,\n",
    "  1.0,\n",
    "  0.0,\n",
    "  1.0,\n",
    "  0.0,\n",
    "  0.0,\n",
    "  1.0,\n",
    "  0.0,\n",
    "  0.0,\n",
    "  1.0,\n",
    "  0.0,\n",
    "  0.0,\n",
    "  1.0,\n",
    "  0.0,\n",
    "  0.0,\n",
    "  1.0,\n",
    "  0.0,\n",
    "  0.0,\n",
    "  1.0,\n",
    "  0.0,\n",
    "  0.0,\n",
    "  2.0],\n",
    " [0.0,\n",
    "  1.6157653978643138,\n",
    "  0.8547598686658453,\n",
    "  0.0,\n",
    "  1.0,\n",
    "  1.0,\n",
    "  0.0,\n",
    "  0.0,\n",
    "  1.0,\n",
    "  0.0,\n",
    "  0.0,\n",
    "  1.0,\n",
    "  0.0,\n",
    "  0.0,\n",
    "  1.0,\n",
    "  0.0,\n",
    "  0.0,\n",
    "  1.0,\n",
    "  0.0,\n",
    "  0.0,\n",
    "  1.0,\n",
    "  0.0,\n",
    "  0.0,\n",
    "  1.0,\n",
    "  0.0,\n",
    "  0.0,\n",
    "  1.0,\n",
    "  1.0,\n",
    "  2.0],\n",
    " [0.0,\n",
    "  0.88375429424607,\n",
    "  1.5216763794500923,\n",
    "  0.0,\n",
    "  1.0,\n",
    "  1.0,\n",
    "  0.0,\n",
    "  0.0,\n",
    "  1.0,\n",
    "  1.0,\n",
    "  0.0,\n",
    "  0.0,\n",
    "  0.0,\n",
    "  0.0,\n",
    "  1.0,\n",
    "  0.0,\n",
    "  0.0,\n",
    "  1.0,\n",
    "  0.0,\n",
    "  0.0,\n",
    "  1.0,\n",
    "  0.0,\n",
    "  0.0,\n",
    "  1.0,\n",
    "  0.0,\n",
    "  0.0,\n",
    "  1.0,\n",
    "  2.0,\n",
    "  1.0]]"
   ]
  },
  {
   "cell_type": "code",
   "execution_count": 3,
   "id": "04a8a7af",
   "metadata": {},
   "outputs": [],
   "source": [
    "import json\n",
    "\n",
    "input_data_json = json.dumps({\n",
    "    \"signature_name\": \"serving_default\",\n",
    "    \"instances\": new_data\n",
    "})"
   ]
  },
  {
   "cell_type": "code",
   "execution_count": 6,
   "id": "749541b9",
   "metadata": {},
   "outputs": [
    {
     "data": {
      "text/plain": [
       "{'predictions': [[0.00627490878], [0.0120534], [0.208698809]]}"
      ]
     },
     "execution_count": 6,
     "metadata": {},
     "output_type": "execute_result"
    }
   ],
   "source": [
    "import requests\n",
    "\n",
    "URL = 'https://malvin-subahri-p2m1-b.herokuapp.com/v1/models/model_func:predict'\n",
    "r = requests.post(URL, data=input_data_json)\n",
    "result = r.json()\n",
    "result"
   ]
  },
  {
   "cell_type": "code",
   "execution_count": 7,
   "id": "f218480f",
   "metadata": {},
   "outputs": [],
   "source": [
    "res = result ['predictions'] [0]"
   ]
  },
  {
   "cell_type": "code",
   "execution_count": 8,
   "id": "76787b66",
   "metadata": {},
   "outputs": [
    {
     "name": "stdout",
     "output_type": "stream",
     "text": [
      "Not Churn\n",
      "Not Churn\n",
      "Not Churn\n"
     ]
    }
   ],
   "source": [
    "for res in result ['predictions']:\n",
    "    if res[0] > 0.5:\n",
    "        print(\"Churn\")\n",
    "    else:\n",
    "        print(\"Not Churn\")"
   ]
  }
 ],
 "metadata": {
  "kernelspec": {
   "display_name": "Python 3.9.12 ('base')",
   "language": "python",
   "name": "python3"
  },
  "language_info": {
   "codemirror_mode": {
    "name": "ipython",
    "version": 3
   },
   "file_extension": ".py",
   "mimetype": "text/x-python",
   "name": "python",
   "nbconvert_exporter": "python",
   "pygments_lexer": "ipython3",
   "version": "3.9.12"
  },
  "vscode": {
   "interpreter": {
    "hash": "9c1d5a056f04d97314a9f946bc8c5185004572d3d68312220c0ba298420421f7"
   }
  }
 },
 "nbformat": 4,
 "nbformat_minor": 5
}
