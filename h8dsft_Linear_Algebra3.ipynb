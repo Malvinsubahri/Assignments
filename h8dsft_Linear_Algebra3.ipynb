{
 "cells": [
  {
   "cell_type": "code",
   "execution_count": 2,
   "metadata": {},
   "outputs": [],
   "source": [
    "import numpy as np\n",
    "import matplotlib.pyplot as plt"
   ]
  },
  {
   "cell_type": "code",
   "execution_count": 3,
   "metadata": {},
   "outputs": [],
   "source": [
    "# Apakah [1, 3] adalah eigenvector dari [1,−1,6,4]? Jika Iya, berapakah eigenvalue-nya?\n",
    "\n",
    "a = np.array  ([[1, -1],\n",
    "                [6, 4]])\n",
    "\n",
    "b = np.array ([1, 3])"
   ]
  },
  {
   "cell_type": "code",
   "execution_count": 4,
   "metadata": {},
   "outputs": [
    {
     "data": {
      "text/plain": [
       "array([-2, 18])"
      ]
     },
     "execution_count": 4,
     "metadata": {},
     "output_type": "execute_result"
    }
   ],
   "source": [
    "c = a @ b\n",
    "c"
   ]
  },
  {
   "cell_type": "code",
   "execution_count": 5,
   "metadata": {},
   "outputs": [],
   "source": [
    "def plot_vector2d(vector2d, origin=[0, 0], **options):\n",
    "    return plt.arrow(origin[0], origin[1], vector2d[0], vector2d[1],\n",
    "              head_width=0.2, head_length=0.3, length_includes_head=True,\n",
    "              **options)"
   ]
  },
  {
   "cell_type": "code",
   "execution_count": 11,
   "metadata": {},
   "outputs": [
    {
     "data": {
      "image/png": "[encoded data removed]",
      "text/plain": [
       "<Figure size 432x288 with 1 Axes>"
      ]
     },
     "metadata": {
      "needs_background": "light"
     },
     "output_type": "display_data"
    }
   ],
   "source": [
    "# Cara ke -1\n",
    "b = np.array([1, 3])\n",
    "c = np.array([-2, 18])\n",
    "\n",
    "plot_vector2d(b, color ='r')\n",
    "plot_vector2d(c, color ='g')\n",
    "\n",
    "plt.axis([-5,20,-5,20]) # rentang axis sumbu x dan y\n",
    "plt.axhline (0,0)\n",
    "plt.axvline (0,0)\n",
    "plt.grid()\n",
    "plt.show()"
   ]
  },
  {
   "cell_type": "code",
   "execution_count": 12,
   "metadata": {},
   "outputs": [
    {
     "data": {
      "image/png": "[encoded data removed]",
      "text/plain": [
       "<Figure size 432x288 with 1 Axes>"
      ]
     },
     "metadata": {
      "needs_background": "light"
     },
     "output_type": "display_data"
    }
   ],
   "source": [
    "# Cara ke 2\n",
    "b = np.array([1,3])\n",
    "\n",
    "plot_vector2d(b, color ='r')\n",
    "plot_vector2d(a @ b, color ='g')\n",
    "\n",
    "plt.axis([-5, 20, -5, 20])\n",
    "plt.axhline (0,0)\n",
    "plt.axvline (0,0)\n",
    "plt.grid()\n",
    "plt.show ()\n",
    "\n",
    "\n"
   ]
  },
  {
   "cell_type": "markdown",
   "metadata": {},
   "source": [
    "[1,3] bukanlah eigenvector dari [1,−1,6,4] karena terjadi perubahan arah"
   ]
  }
 ],
 "metadata": {
  "interpreter": {
   "hash": "07efbfc3fa60b6f7a210a1a1b4865506d8a35fbfa4372b150ca8bad4187f87fe"
  },
  "kernelspec": {
   "display_name": "Python 3.10.4 64-bit",
   "language": "python",
   "name": "python3"
  },
  "language_info": {
   "codemirror_mode": {
    "name": "ipython",
    "version": 3
   },
   "file_extension": ".py",
   "mimetype": "text/x-python",
   "name": "python",
   "nbconvert_exporter": "python",
   "pygments_lexer": "ipython3",
   "version": "3.10.4"
  },
  "orig_nbformat": 4
 },
 "nbformat": 4,
 "nbformat_minor": 2
}
