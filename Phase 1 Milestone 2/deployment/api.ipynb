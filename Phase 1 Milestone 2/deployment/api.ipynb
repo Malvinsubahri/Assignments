{
 "cells": [
  {
   "cell_type": "markdown",
   "metadata": {},
   "source": [
    "## Model Inference"
   ]
  },
  {
   "cell_type": "code",
   "execution_count": 10,
   "metadata": {},
   "outputs": [],
   "source": [
    "import requests\n",
    "import flask"
   ]
  },
  {
   "cell_type": "code",
   "execution_count": 11,
   "metadata": {},
   "outputs": [],
   "source": [
    "import pickle\n",
    "\n",
    "filename = \"model.pkl\"\n",
    "with open (filename, \"rb\") as (f):\n",
    "    model = pickle.load (f)"
   ]
  },
  {
   "cell_type": "code",
   "execution_count": 12,
   "metadata": {},
   "outputs": [
    {
     "data": {
      "text/plain": [
       "array([ True])"
      ]
     },
     "execution_count": 12,
     "metadata": {},
     "output_type": "execute_result"
    }
   ],
   "source": [
    "import pandas as pd\n",
    "\n",
    "columns = ['type_school', 'school_accreditation', 'interest', 'residence', 'parent_salary', 'house_area', 'average_grades']\n",
    "new_data = ['Academic', 'A', 'Interested', 'Urban', 7500000, 125, 90]\n",
    "new_data = pd.DataFrame ([new_data], columns = columns)\n",
    "model.predict (new_data)"
   ]
  },
  {
   "cell_type": "code",
   "execution_count": 13,
   "metadata": {},
   "outputs": [
    {
     "data": {
      "text/plain": [
       "{'result': {'label_idx': 'True', 'label_name': 'True'}, 'success': True}"
      ]
     },
     "execution_count": 13,
     "metadata": {},
     "output_type": "execute_result"
    }
   ],
   "source": [
    "# Tulis URL yang akan diakses\n",
    "\n",
    "URL = 'https://malvin-subahri-ftds-012-p1m2-b.herokuapp.com/college_prediction'\n",
    "\n",
    "data = {\n",
    "        'type_school' : 'Academic',\n",
    "        'school_accreditation' : 'A',\n",
    "        'interest' : 'Interested',\n",
    "        'residence' : 'Urban',\n",
    "        'parent_salary' : 7500000,\n",
    "        'house_area' : 125,\n",
    "        'average_grades' : 90\n",
    "}\n",
    "\n",
    "# Akses dengan POST\n",
    "\n",
    "r = requests.post (URL, json = data)\n",
    "\n",
    "# Fetch / tarik data\n",
    "\n",
    "r.json ()"
   ]
  }
 ],
 "metadata": {
  "kernelspec": {
   "display_name": "Python 3.9.12 ('base')",
   "language": "python",
   "name": "python3"
  },
  "language_info": {
   "codemirror_mode": {
    "name": "ipython",
    "version": 3
   },
   "file_extension": ".py",
   "mimetype": "text/x-python",
   "name": "python",
   "nbconvert_exporter": "python",
   "pygments_lexer": "ipython3",
   "version": "3.9.12"
  },
  "orig_nbformat": 4,
  "vscode": {
   "interpreter": {
    "hash": "9c1d5a056f04d97314a9f946bc8c5185004572d3d68312220c0ba298420421f7"
   }
  }
 },
 "nbformat": 4,
 "nbformat_minor": 2
}
