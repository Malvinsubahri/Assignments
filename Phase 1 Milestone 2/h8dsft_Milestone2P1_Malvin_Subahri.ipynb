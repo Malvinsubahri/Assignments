{
  "cells": [
    {
      "cell_type": "markdown",
      "metadata": {
        "id": "rhIhf1FFyFhI"
      },
      "source": [
        "# 1 - Perkenalan"
      ]
    },
    {
      "cell_type": "markdown",
      "metadata": {
        "id": "Kuoktq8FyH8G"
      },
      "source": [
        "> Bab pengenalan harus diisi dengan identitas, gambaran besar dataset yang digunakan, dan objective yang ingin dicapai."
      ]
    },
    {
      "cell_type": "markdown",
      "metadata": {
        "id": "6P1mXVJLyMq4"
      },
      "source": [
        "Nama : Malvin Subahri \n",
        "\n",
        "Batch : FTDS - 012\n",
        "\n",
        "Dataset : collage.csv\n",
        "\n",
        "Objective : Membuat model untuk memprediksi apakah seseorang akan melanjutkan kuliah atau tidak setelah lulus sekolah\n",
        "\n",
        "Problem Statement : Memprediksi apakah seseorang akan melanjutkan kuliah atau tidak setelah lulus sekolah"
      ]
    },
    {
      "cell_type": "markdown",
      "metadata": {
        "id": "Uty2Zd9qyejG"
      },
      "source": [
        "# 2 - Import Libraries"
      ]
    },
    {
      "cell_type": "markdown",
      "metadata": {
        "id": "_3JmSQILyhZG"
      },
      "source": [
        "> Cell pertama pada notebook harus berisi dan hanya berisi semua library yang digunakan dalam project."
      ]
    },
    {
      "cell_type": "code",
      "execution_count": 1,
      "metadata": {
        "id": "dfCGee6Fs9Rs"
      },
      "outputs": [],
      "source": [
        "# Import Libraries\n",
        "\n",
        "import pandas as pd\n",
        "import numpy as np\n",
        "import seaborn as sns\n",
        "import matplotlib.pyplot as plt\n",
        "from sklearn.model_selection import train_test_split, cross_val_score, GridSearchCV\n",
        "from feature_engine.outliers import Winsorizer\n",
        "from sklearn.preprocessing import StandardScaler\n",
        "from sklearn.preprocessing import OrdinalEncoder \n",
        "from sklearn.preprocessing import OneHotEncoder\n",
        "from sklearn.linear_model import LogisticRegression\n",
        "from sklearn.neighbors import KNeighborsClassifier\n",
        "from sklearn.ensemble import RandomForestClassifier, BaggingClassifier\n",
        "from sklearn.metrics import confusion_matrix, ConfusionMatrixDisplay, classification_report, roc_curve, roc_auc_score, accuracy_score\n",
        "from sklearn.compose import ColumnTransformer\n",
        "from sklearn.pipeline import Pipeline\n",
        "import pickle\n",
        "import warnings\n",
        "warnings.filterwarnings ('ignore')"
      ]
    },
    {
      "cell_type": "markdown",
      "metadata": {
        "id": "qyUSRkl3y_R6"
      },
      "source": [
        "# 3 - Data Loading"
      ]
    },
    {
      "cell_type": "markdown",
      "metadata": {
        "id": "5BS3ULBtzDml"
      },
      "source": [
        "> Bagian ini berisi proses penyiapan data sebelum dilakukan eksplorasi data lebih lanjut. Proses Data Loading dapat berupa memberi nama baru untuk setiap kolom, mengecek ukuran dataset, dll."
      ]
    },
    {
      "cell_type": "code",
      "execution_count": 2,
      "metadata": {},
      "outputs": [
        {
          "data": {
            "text/html": [
              "<div>\n",
              "<style scoped>\n",
              "    .dataframe tbody tr th:only-of-type {\n",
              "        vertical-align: middle;\n",
              "    }\n",
              "\n",
              "    .dataframe tbody tr th {\n",
              "        vertical-align: top;\n",
              "    }\n",
              "\n",
              "    .dataframe thead th {\n",
              "        text-align: right;\n",
              "    }\n",
              "</style>\n",
              "<table border=\"1\" class=\"dataframe\">\n",
              "  <thead>\n",
              "    <tr style=\"text-align: right;\">\n",
              "      <th></th>\n",
              "      <th>type_school</th>\n",
              "      <th>school_accreditation</th>\n",
              "      <th>gender</th>\n",
              "      <th>interest</th>\n",
              "      <th>residence</th>\n",
              "      <th>parent_age</th>\n",
              "      <th>parent_salary</th>\n",
              "      <th>house_area</th>\n",
              "      <th>average_grades</th>\n",
              "      <th>parent_was_in_college</th>\n",
              "      <th>will_go_to_college</th>\n",
              "    </tr>\n",
              "  </thead>\n",
              "  <tbody>\n",
              "    <tr>\n",
              "      <th>0</th>\n",
              "      <td>Academic</td>\n",
              "      <td>A</td>\n",
              "      <td>Male</td>\n",
              "      <td>Less Interested</td>\n",
              "      <td>Urban</td>\n",
              "      <td>56</td>\n",
              "      <td>6950000</td>\n",
              "      <td>83.0</td>\n",
              "      <td>84.09</td>\n",
              "      <td>False</td>\n",
              "      <td>True</td>\n",
              "    </tr>\n",
              "    <tr>\n",
              "      <th>1</th>\n",
              "      <td>Academic</td>\n",
              "      <td>A</td>\n",
              "      <td>Male</td>\n",
              "      <td>Less Interested</td>\n",
              "      <td>Urban</td>\n",
              "      <td>57</td>\n",
              "      <td>4410000</td>\n",
              "      <td>76.8</td>\n",
              "      <td>86.91</td>\n",
              "      <td>False</td>\n",
              "      <td>True</td>\n",
              "    </tr>\n",
              "    <tr>\n",
              "      <th>2</th>\n",
              "      <td>Academic</td>\n",
              "      <td>B</td>\n",
              "      <td>Female</td>\n",
              "      <td>Very Interested</td>\n",
              "      <td>Urban</td>\n",
              "      <td>50</td>\n",
              "      <td>6500000</td>\n",
              "      <td>80.6</td>\n",
              "      <td>87.43</td>\n",
              "      <td>False</td>\n",
              "      <td>True</td>\n",
              "    </tr>\n",
              "    <tr>\n",
              "      <th>3</th>\n",
              "      <td>Vocational</td>\n",
              "      <td>B</td>\n",
              "      <td>Male</td>\n",
              "      <td>Very Interested</td>\n",
              "      <td>Rural</td>\n",
              "      <td>49</td>\n",
              "      <td>6600000</td>\n",
              "      <td>78.2</td>\n",
              "      <td>82.12</td>\n",
              "      <td>True</td>\n",
              "      <td>True</td>\n",
              "    </tr>\n",
              "    <tr>\n",
              "      <th>4</th>\n",
              "      <td>Academic</td>\n",
              "      <td>A</td>\n",
              "      <td>Female</td>\n",
              "      <td>Very Interested</td>\n",
              "      <td>Urban</td>\n",
              "      <td>57</td>\n",
              "      <td>5250000</td>\n",
              "      <td>75.1</td>\n",
              "      <td>86.79</td>\n",
              "      <td>False</td>\n",
              "      <td>False</td>\n",
              "    </tr>\n",
              "    <tr>\n",
              "      <th>...</th>\n",
              "      <td>...</td>\n",
              "      <td>...</td>\n",
              "      <td>...</td>\n",
              "      <td>...</td>\n",
              "      <td>...</td>\n",
              "      <td>...</td>\n",
              "      <td>...</td>\n",
              "      <td>...</td>\n",
              "      <td>...</td>\n",
              "      <td>...</td>\n",
              "      <td>...</td>\n",
              "    </tr>\n",
              "    <tr>\n",
              "      <th>995</th>\n",
              "      <td>Vocational</td>\n",
              "      <td>A</td>\n",
              "      <td>Female</td>\n",
              "      <td>Very Interested</td>\n",
              "      <td>Rural</td>\n",
              "      <td>49</td>\n",
              "      <td>7420000</td>\n",
              "      <td>63.6</td>\n",
              "      <td>85.99</td>\n",
              "      <td>True</td>\n",
              "      <td>True</td>\n",
              "    </tr>\n",
              "    <tr>\n",
              "      <th>996</th>\n",
              "      <td>Academic</td>\n",
              "      <td>B</td>\n",
              "      <td>Female</td>\n",
              "      <td>Less Interested</td>\n",
              "      <td>Rural</td>\n",
              "      <td>51</td>\n",
              "      <td>7480000</td>\n",
              "      <td>84.3</td>\n",
              "      <td>89.72</td>\n",
              "      <td>True</td>\n",
              "      <td>True</td>\n",
              "    </tr>\n",
              "    <tr>\n",
              "      <th>997</th>\n",
              "      <td>Vocational</td>\n",
              "      <td>A</td>\n",
              "      <td>Male</td>\n",
              "      <td>Less Interested</td>\n",
              "      <td>Urban</td>\n",
              "      <td>49</td>\n",
              "      <td>5550000</td>\n",
              "      <td>75.2</td>\n",
              "      <td>79.56</td>\n",
              "      <td>False</td>\n",
              "      <td>True</td>\n",
              "    </tr>\n",
              "    <tr>\n",
              "      <th>998</th>\n",
              "      <td>Academic</td>\n",
              "      <td>B</td>\n",
              "      <td>Male</td>\n",
              "      <td>Uncertain</td>\n",
              "      <td>Rural</td>\n",
              "      <td>53</td>\n",
              "      <td>5840000</td>\n",
              "      <td>105.8</td>\n",
              "      <td>87.18</td>\n",
              "      <td>True</td>\n",
              "      <td>True</td>\n",
              "    </tr>\n",
              "    <tr>\n",
              "      <th>999</th>\n",
              "      <td>Academic</td>\n",
              "      <td>B</td>\n",
              "      <td>Male</td>\n",
              "      <td>Interested</td>\n",
              "      <td>Urban</td>\n",
              "      <td>50</td>\n",
              "      <td>2940000</td>\n",
              "      <td>69.1</td>\n",
              "      <td>86.13</td>\n",
              "      <td>True</td>\n",
              "      <td>False</td>\n",
              "    </tr>\n",
              "  </tbody>\n",
              "</table>\n",
              "<p>1000 rows × 11 columns</p>\n",
              "</div>"
            ],
            "text/plain": [
              "    type_school school_accreditation  gender         interest residence  \\\n",
              "0      Academic                    A    Male  Less Interested     Urban   \n",
              "1      Academic                    A    Male  Less Interested     Urban   \n",
              "2      Academic                    B  Female  Very Interested     Urban   \n",
              "3    Vocational                    B    Male  Very Interested     Rural   \n",
              "4      Academic                    A  Female  Very Interested     Urban   \n",
              "..          ...                  ...     ...              ...       ...   \n",
              "995  Vocational                    A  Female  Very Interested     Rural   \n",
              "996    Academic                    B  Female  Less Interested     Rural   \n",
              "997  Vocational                    A    Male  Less Interested     Urban   \n",
              "998    Academic                    B    Male        Uncertain     Rural   \n",
              "999    Academic                    B    Male       Interested     Urban   \n",
              "\n",
              "     parent_age  parent_salary  house_area  average_grades  \\\n",
              "0            56        6950000        83.0           84.09   \n",
              "1            57        4410000        76.8           86.91   \n",
              "2            50        6500000        80.6           87.43   \n",
              "3            49        6600000        78.2           82.12   \n",
              "4            57        5250000        75.1           86.79   \n",
              "..          ...            ...         ...             ...   \n",
              "995          49        7420000        63.6           85.99   \n",
              "996          51        7480000        84.3           89.72   \n",
              "997          49        5550000        75.2           79.56   \n",
              "998          53        5840000       105.8           87.18   \n",
              "999          50        2940000        69.1           86.13   \n",
              "\n",
              "     parent_was_in_college  will_go_to_college  \n",
              "0                    False                True  \n",
              "1                    False                True  \n",
              "2                    False                True  \n",
              "3                     True                True  \n",
              "4                    False               False  \n",
              "..                     ...                 ...  \n",
              "995                   True                True  \n",
              "996                   True                True  \n",
              "997                  False                True  \n",
              "998                   True                True  \n",
              "999                   True               False  \n",
              "\n",
              "[1000 rows x 11 columns]"
            ]
          },
          "execution_count": 2,
          "metadata": {},
          "output_type": "execute_result"
        }
      ],
      "source": [
        "pd.set_option(\"display.max.column\", None)\n",
        "data = pd.read_csv ('collage.csv')\n",
        "data"
      ]
    },
    {
      "cell_type": "code",
      "execution_count": 3,
      "metadata": {},
      "outputs": [
        {
          "name": "stdout",
          "output_type": "stream",
          "text": [
            "<class 'pandas.core.frame.DataFrame'>\n",
            "RangeIndex: 1000 entries, 0 to 999\n",
            "Data columns (total 11 columns):\n",
            " #   Column                 Non-Null Count  Dtype  \n",
            "---  ------                 --------------  -----  \n",
            " 0   type_school            1000 non-null   object \n",
            " 1   school_accreditation   1000 non-null   object \n",
            " 2   gender                 1000 non-null   object \n",
            " 3   interest               1000 non-null   object \n",
            " 4   residence              1000 non-null   object \n",
            " 5   parent_age             1000 non-null   int64  \n",
            " 6   parent_salary          1000 non-null   int64  \n",
            " 7   house_area             1000 non-null   float64\n",
            " 8   average_grades         1000 non-null   float64\n",
            " 9   parent_was_in_college  1000 non-null   bool   \n",
            " 10  will_go_to_college     1000 non-null   bool   \n",
            "dtypes: bool(2), float64(2), int64(2), object(5)\n",
            "memory usage: 72.4+ KB\n"
          ]
        }
      ],
      "source": [
        "data.info ()"
      ]
    },
    {
      "cell_type": "markdown",
      "metadata": {},
      "source": [
        "Tidak ada missing values pada dataset"
      ]
    },
    {
      "cell_type": "code",
      "execution_count": 4,
      "metadata": {},
      "outputs": [],
      "source": [
        "# Duplicate Dataset\n",
        "\n",
        "data_copy = data.copy ()"
      ]
    },
    {
      "cell_type": "markdown",
      "metadata": {
        "id": "6f-WABMy1Uqe"
      },
      "source": [
        "# 4 - Exploratory Data Analysis (EDA)"
      ]
    },
    {
      "cell_type": "markdown",
      "metadata": {
        "id": "CxLf-KcD1Zv-"
      },
      "source": [
        "> Bagian ini berisi eksplorasi data pada dataset diatas dengan menggunakan query, grouping, visualisasi sederhana, dan lain sebagainya."
      ]
    },
    {
      "cell_type": "code",
      "execution_count": 5,
      "metadata": {},
      "outputs": [
        {
          "name": "stdout",
          "output_type": "stream",
          "text": [
            "<class 'pandas.core.frame.DataFrame'>\n",
            "RangeIndex: 1000 entries, 0 to 999\n",
            "Data columns (total 11 columns):\n",
            " #   Column                 Non-Null Count  Dtype  \n",
            "---  ------                 --------------  -----  \n",
            " 0   type_school            1000 non-null   object \n",
            " 1   school_accreditation   1000 non-null   object \n",
            " 2   gender                 1000 non-null   object \n",
            " 3   interest               1000 non-null   object \n",
            " 4   residence              1000 non-null   object \n",
            " 5   parent_age             1000 non-null   int64  \n",
            " 6   parent_salary          1000 non-null   int64  \n",
            " 7   house_area             1000 non-null   float64\n",
            " 8   average_grades         1000 non-null   float64\n",
            " 9   parent_was_in_college  1000 non-null   bool   \n",
            " 10  will_go_to_college     1000 non-null   bool   \n",
            "dtypes: bool(2), float64(2), int64(2), object(5)\n",
            "memory usage: 72.4+ KB\n"
          ]
        }
      ],
      "source": [
        "data.info ()"
      ]
    },
    {
      "cell_type": "code",
      "execution_count": 6,
      "metadata": {},
      "outputs": [
        {
          "data": {
            "text/plain": [
              "<AxesSubplot:xlabel='will_go_to_college'>"
            ]
          },
          "execution_count": 6,
          "metadata": {},
          "output_type": "execute_result"
        },
        {
          "data": {
            "image/png": "[encoded data removed]",
            "text/plain": [
              "<Figure size 432x288 with 1 Axes>"
            ]
          },
          "metadata": {
            "needs_background": "light"
          },
          "output_type": "display_data"
        }
      ],
      "source": [
        "data.groupby (by=['will_go_to_college'])[['house_area', 'average_grades']].mean ().plot(kind='bar')"
      ]
    },
    {
      "cell_type": "code",
      "execution_count": 7,
      "metadata": {},
      "outputs": [
        {
          "data": {
            "text/plain": [
              "<AxesSubplot:xlabel='will_go_to_college'>"
            ]
          },
          "execution_count": 7,
          "metadata": {},
          "output_type": "execute_result"
        },
        {
          "data": {
            "image/png": "[encoded data removed]",
            "text/plain": [
              "<Figure size 432x288 with 1 Axes>"
            ]
          },
          "metadata": {
            "needs_background": "light"
          },
          "output_type": "display_data"
        }
      ],
      "source": [
        "data.groupby (by=['will_go_to_college'])[['parent_salary']].mean ().plot(kind='bar')"
      ]
    },
    {
      "cell_type": "markdown",
      "metadata": {},
      "source": [
        "Jika dilihat dari grafik, orang yang lanjut kuliah memiliki rata - rata house_area, average_grades, parent_salary yang lebih besar"
      ]
    },
    {
      "cell_type": "code",
      "execution_count": 8,
      "metadata": {},
      "outputs": [
        {
          "data": {
            "text/html": [
              "<div>\n",
              "<style scoped>\n",
              "    .dataframe tbody tr th:only-of-type {\n",
              "        vertical-align: middle;\n",
              "    }\n",
              "\n",
              "    .dataframe tbody tr th {\n",
              "        vertical-align: top;\n",
              "    }\n",
              "\n",
              "    .dataframe thead tr th {\n",
              "        text-align: left;\n",
              "    }\n",
              "\n",
              "    .dataframe thead tr:last-of-type th {\n",
              "        text-align: right;\n",
              "    }\n",
              "</style>\n",
              "<table border=\"1\" class=\"dataframe\">\n",
              "  <thead>\n",
              "    <tr>\n",
              "      <th></th>\n",
              "      <th colspan=\"8\" halign=\"left\">average_grades</th>\n",
              "      <th colspan=\"8\" halign=\"left\">parent_salary</th>\n",
              "    </tr>\n",
              "    <tr>\n",
              "      <th></th>\n",
              "      <th>count</th>\n",
              "      <th>mean</th>\n",
              "      <th>std</th>\n",
              "      <th>min</th>\n",
              "      <th>25%</th>\n",
              "      <th>50%</th>\n",
              "      <th>75%</th>\n",
              "      <th>max</th>\n",
              "      <th>count</th>\n",
              "      <th>mean</th>\n",
              "      <th>std</th>\n",
              "      <th>min</th>\n",
              "      <th>25%</th>\n",
              "      <th>50%</th>\n",
              "      <th>75%</th>\n",
              "      <th>max</th>\n",
              "    </tr>\n",
              "    <tr>\n",
              "      <th>will_go_to_college</th>\n",
              "      <th></th>\n",
              "      <th></th>\n",
              "      <th></th>\n",
              "      <th></th>\n",
              "      <th></th>\n",
              "      <th></th>\n",
              "      <th></th>\n",
              "      <th></th>\n",
              "      <th></th>\n",
              "      <th></th>\n",
              "      <th></th>\n",
              "      <th></th>\n",
              "      <th></th>\n",
              "      <th></th>\n",
              "      <th></th>\n",
              "      <th></th>\n",
              "    </tr>\n",
              "  </thead>\n",
              "  <tbody>\n",
              "    <tr>\n",
              "      <th>False</th>\n",
              "      <td>500.0</td>\n",
              "      <td>84.39134</td>\n",
              "      <td>2.071169</td>\n",
              "      <td>77.18</td>\n",
              "      <td>83.095</td>\n",
              "      <td>84.445</td>\n",
              "      <td>85.6375</td>\n",
              "      <td>90.97</td>\n",
              "      <td>500.0</td>\n",
              "      <td>4717100.0</td>\n",
              "      <td>1.247334e+06</td>\n",
              "      <td>1660000.0</td>\n",
              "      <td>3780000.0</td>\n",
              "      <td>4650000.0</td>\n",
              "      <td>5652500.0</td>\n",
              "      <td>8370000.0</td>\n",
              "    </tr>\n",
              "    <tr>\n",
              "      <th>True</th>\n",
              "      <td>500.0</td>\n",
              "      <td>87.80306</td>\n",
              "      <td>3.568375</td>\n",
              "      <td>75.00</td>\n",
              "      <td>85.410</td>\n",
              "      <td>87.640</td>\n",
              "      <td>90.2800</td>\n",
              "      <td>98.00</td>\n",
              "      <td>500.0</td>\n",
              "      <td>6046040.0</td>\n",
              "      <td>1.212242e+06</td>\n",
              "      <td>1000000.0</td>\n",
              "      <td>5315000.0</td>\n",
              "      <td>6060000.0</td>\n",
              "      <td>6732500.0</td>\n",
              "      <td>10000000.0</td>\n",
              "    </tr>\n",
              "  </tbody>\n",
              "</table>\n",
              "</div>"
            ],
            "text/plain": [
              "                   average_grades                                             \\\n",
              "                            count      mean       std    min     25%     50%   \n",
              "will_go_to_college                                                             \n",
              "False                       500.0  84.39134  2.071169  77.18  83.095  84.445   \n",
              "True                        500.0  87.80306  3.568375  75.00  85.410  87.640   \n",
              "\n",
              "                                   parent_salary                           \\\n",
              "                        75%    max         count       mean           std   \n",
              "will_go_to_college                                                          \n",
              "False               85.6375  90.97         500.0  4717100.0  1.247334e+06   \n",
              "True                90.2800  98.00         500.0  6046040.0  1.212242e+06   \n",
              "\n",
              "                                                                            \n",
              "                          min        25%        50%        75%         max  \n",
              "will_go_to_college                                                          \n",
              "False               1660000.0  3780000.0  4650000.0  5652500.0   8370000.0  \n",
              "True                1000000.0  5315000.0  6060000.0  6732500.0  10000000.0  "
            ]
          },
          "execution_count": 8,
          "metadata": {},
          "output_type": "execute_result"
        }
      ],
      "source": [
        "data.groupby (by=['will_go_to_college'])[['average_grades', 'parent_salary']].describe ()"
      ]
    },
    {
      "cell_type": "markdown",
      "metadata": {},
      "source": [
        "Jika dilihat dari nilai rata - rata, orang yang lanjut kuliah memiliki average_grades sebesar 87 dan parent_salary sebesar 6000000\n",
        "\n",
        "Jika dilihat dari nilai minimal, orang yang lanjut kuliah memiliki average_grades sebesar 75 mungkin ini standar nilai rata-rata agar bisa lanjut kuliah dan parent_salary sebesar 1000000 mungkin ini standar biaya agar bisa membayar perkuliahan\n",
        "\n",
        "Dan ternyata orang yang mempunyai average_grades dan parent_salary yang lebih dari minimal belum tentu lanjut kuliah "
      ]
    },
    {
      "cell_type": "code",
      "execution_count": 9,
      "metadata": {},
      "outputs": [
        {
          "data": {
            "text/plain": [
              "Text(0.5, 1.0, 'interest vs will_go_to_college')"
            ]
          },
          "execution_count": 9,
          "metadata": {},
          "output_type": "execute_result"
        },
        {
          "data": {
            "image/png": "[encoded data removed]",
            "text/plain": [
              "<Figure size 720x288 with 1 Axes>"
            ]
          },
          "metadata": {
            "needs_background": "light"
          },
          "output_type": "display_data"
        }
      ],
      "source": [
        "plt.figure (figsize=(10,4))\n",
        "sns.countplot (data=data, x='interest', hue='will_go_to_college', order=['Not Interested', 'Less Interested', 'Uncertain', 'Interested', 'Very Interested'])\n",
        "plt.title ('interest vs will_go_to_college')"
      ]
    },
    {
      "cell_type": "markdown",
      "metadata": {},
      "source": [
        "Ternyata orang yang mempunyai `interest` tinggi, kenyataanya belum tentu lanjut kuliah, bisa dilihat pada kasus `Interested` yang seharusnya berminat lanjut kuliah tetapi pada kenyataannya lebih banyak yang tidak lanjut kuliah\n",
        "\n",
        "Namun orang yang mempunyai `interest` rendah, kenyataanya belum tentu tidak lanjut kulia, bisa dilihat pada kasus `Not Interested` yang seharusnya tidak berminat lanjut kuliah tetapi pada kenyataanya lebih banyak yang lanjut kuliah "
      ]
    },
    {
      "cell_type": "code",
      "execution_count": 10,
      "metadata": {},
      "outputs": [
        {
          "data": {
            "text/plain": [
              "Text(0.5, 1.0, 'parent_was_in_college vs will_go_to_college')"
            ]
          },
          "execution_count": 10,
          "metadata": {},
          "output_type": "execute_result"
        },
        {
          "data": {
            "image/png": "[encoded data removed]",
            "text/plain": [
              "<Figure size 1440x1152 with 4 Axes>"
            ]
          },
          "metadata": {
            "needs_background": "light"
          },
          "output_type": "display_data"
        }
      ],
      "source": [
        "plt.figure (figsize=(20,16))\n",
        "\n",
        "# Korelasi Kolom 'type_school' dengan kolom 'will_go_to_college\n",
        "\n",
        "plt.subplot(2, 2, 1)\n",
        "sns.countplot (data=data, x='type_school', hue='will_go_to_college')\n",
        "plt.title ('type_school vs will_go_to_college')\n",
        "\n",
        "# Korelasi Kolom 'school_accreditation' dengan kolom 'will_go_to_college\n",
        "\n",
        "plt.subplot(2, 2, 2)\n",
        "sns.countplot (data=data, x='school_accreditation', hue='will_go_to_college')\n",
        "plt.title ('school_accreditation vs will_go_to_college')\n",
        "\n",
        "# Korelasi Kolom 'residence' dengan kolom 'will_go_to_college\n",
        "\n",
        "plt.subplot(2, 2, 3)\n",
        "sns.countplot (data=data, x='residence', hue='will_go_to_college')\n",
        "plt.title ('residence vs will_go_to_college')\n",
        "\n",
        "# Korelasi Kolom 'parent_was_in_college' dengan kolom 'will_go_to_college\n",
        "\n",
        "plt.subplot(2, 2, 4)\n",
        "sns.countplot (data=data, x='parent_was_in_college', hue='will_go_to_college')\n",
        "plt.title ('parent_was_in_college vs will_go_to_college')"
      ]
    },
    {
      "cell_type": "markdown",
      "metadata": {},
      "source": [
        "`Korelasi Kolom 'type_school' dengan kolom 'will_go_to_college'`\n",
        "\n",
        "Ternyata lebih banyak orang yang bersekolah di sekolah academic dibandingkan sekolah vocational, orang yang lanjut kuliah juga lebih banyak yang dari sekolah academic dibandingkan dengan sekolah vocational\n",
        "\n",
        "`Korelasi Kolom 'school_accreditation' dengan kolom 'will_go_to_college'`\n",
        "\n",
        "Orang yang bersekolah di sekolah dengan akreditasi A lebih banyak yang lanjut kuliah daripada yang tidak lanjut kuliah, sedangkan orang yang bersekolah di sekolah dengan akreditasi B lebih banyak yang tidak lanjut kuliah daripada yang lanjut kuliah\n",
        "\n",
        "`Korelasi Kolom 'residence' dengan kolom 'will_go_to_college'`\n",
        "\n",
        "Orang yang tinggal di Urban (perkotaan) lebih banyak yang lanjut kuliah dibandingkan dengan orang yang tinggal di Rural (pedesaan)\n",
        "\n",
        "`Korelasi Kolom 'parent_was_in_college' dengan kolom 'will_go_to_college'`\n",
        "\n",
        "Murid dengan orang tua yang dulunya kuliah lebih banyak yang lanjut kuliah daripada yang tidak lanjut kuliah, sedangkan murid dengan orang tua yang dulunya tidak kuliah lebih banyak yang tidak lanjut kuliah daripada yang lanjut kuliah"
      ]
    },
    {
      "cell_type": "code",
      "execution_count": 11,
      "metadata": {},
      "outputs": [
        {
          "data": {
            "image/png": "[encoded data removed]",
            "text/plain": [
              "<Figure size 1440x1440 with 2 Axes>"
            ]
          },
          "metadata": {
            "needs_background": "light"
          },
          "output_type": "display_data"
        }
      ],
      "source": [
        "plt.figure(figsize = (20, 20))\n",
        "\n",
        "# Mencari korelasi kolom 'average_grades' dengan kolom 'marital_status'\n",
        "\n",
        "plt.subplot(4, 1, 1)\n",
        "sns.scatterplot(x = 'average_grades', y = 'interest', data = data)\n",
        "plt.title('average_grades vs marital_status')\n",
        "\n",
        "# Mencari korelasi kolom 'average_grades' dengan kolom 'residence, type_school, school_accreditation'\n",
        "\n",
        "plt.subplot(4, 1, 2)\n",
        "sns.scatterplot(x = 'average_grades', y = 'residence', data = data)\n",
        "sns.scatterplot(x = 'average_grades', y = 'type_school', data = data)\n",
        "sns.scatterplot(x = 'average_grades', y = 'school_accreditation', data = data)\n",
        "plt.ylabel('')\n",
        "plt.title('average_grades vs residence, type_school, school_accreditatio')\n",
        "\n",
        "plt.show()\n"
      ]
    },
    {
      "cell_type": "markdown",
      "metadata": {},
      "source": [
        "`Korelasi kolom 'average_grades' dengan kolom 'marital_status'`\n",
        "\n",
        "Ternyata orang yang `Very Interested` untuk lanjut kuliah tidak memiliki rata-rata nilai yang tinggi, melainkan orang yang `Not Interested` untuk lanjut kuliah memiliki rata-rata nilai yang lebih tinggi\n",
        "\n",
        "`Korelasi kolom 'average_grades' dengan kolom 'residence, type_school, school_accreditation'`\n",
        "\n",
        "Orang yang tinggal di Rural (pedesaan) memiliki rata-rata nilai yang lebih tinggi\n",
        "\n",
        "Orang yang bersekolah di sekolah Academic memiliki rata-rata nilai yang lebih tingg\n",
        "\n",
        "Orang yang bersekolah di sekolah dengan akreditasi B memiliki rata-rata nilai yang lebih tinggi"
      ]
    },
    {
      "cell_type": "code",
      "execution_count": 12,
      "metadata": {},
      "outputs": [
        {
          "data": {
            "text/plain": [
              "<AxesSubplot:ylabel='will_go_to_college'>"
            ]
          },
          "execution_count": 12,
          "metadata": {},
          "output_type": "execute_result"
        },
        {
          "data": {
            "image/png": "[encoded data removed]",
            "text/plain": [
              "<Figure size 432x288 with 1 Axes>"
            ]
          },
          "metadata": {},
          "output_type": "display_data"
        }
      ],
      "source": [
        "data['will_go_to_college'].value_counts().plot (kind = 'pie', autopct='%1.0f%%')"
      ]
    },
    {
      "cell_type": "markdown",
      "metadata": {},
      "source": [
        "Jika dilihat dari `will_go_to_college` dapat diketahui bahwa dataset kita balance karena perbandingan datanya 50% : 50%"
      ]
    },
    {
      "cell_type": "code",
      "execution_count": 13,
      "metadata": {},
      "outputs": [
        {
          "data": {
            "image/png": "[encoded data removed]",
            "text/plain": [
              "<Figure size 1440x1080 with 2 Axes>"
            ]
          },
          "metadata": {
            "needs_background": "light"
          },
          "output_type": "display_data"
        }
      ],
      "source": [
        "# Mencari korelasi kolom will_go_to_college dengan heatmap\n",
        "\n",
        "plt.figure(figsize=(20, 15))\n",
        "sns.heatmap(data.corr (), annot = True, fmt = '.1f')\n",
        "plt.show()"
      ]
    },
    {
      "cell_type": "markdown",
      "metadata": {},
      "source": [
        "Dari heatmap yang memiliki korelasi dengan `will_go_to_college` adalah `parent_salary, house_area, average_grades`"
      ]
    },
    {
      "cell_type": "markdown",
      "metadata": {
        "id": "1GmpFf652bZ9"
      },
      "source": [
        "# 5 - Data Preprocessing"
      ]
    },
    {
      "cell_type": "markdown",
      "metadata": {
        "id": "xDEcwlFq3DdT"
      },
      "source": [
        "> Bagian ini berisi proses penyiapan data untuk proses pelatihan model, seperti pembagian data menjadi train-dev-test, transformasi data (normalisasi, encoding, dll.), dan proses-proses lain yang dibutuhkan.\n",
        "\n"
      ]
    },
    {
      "cell_type": "markdown",
      "metadata": {},
      "source": [
        "## Get Data For Model Inference"
      ]
    },
    {
      "cell_type": "code",
      "execution_count": 14,
      "metadata": {},
      "outputs": [
        {
          "data": {
            "text/html": [
              "<div>\n",
              "<style scoped>\n",
              "    .dataframe tbody tr th:only-of-type {\n",
              "        vertical-align: middle;\n",
              "    }\n",
              "\n",
              "    .dataframe tbody tr th {\n",
              "        vertical-align: top;\n",
              "    }\n",
              "\n",
              "    .dataframe thead th {\n",
              "        text-align: right;\n",
              "    }\n",
              "</style>\n",
              "<table border=\"1\" class=\"dataframe\">\n",
              "  <thead>\n",
              "    <tr style=\"text-align: right;\">\n",
              "      <th></th>\n",
              "      <th>type_school</th>\n",
              "      <th>school_accreditation</th>\n",
              "      <th>gender</th>\n",
              "      <th>interest</th>\n",
              "      <th>residence</th>\n",
              "      <th>parent_age</th>\n",
              "      <th>parent_salary</th>\n",
              "      <th>house_area</th>\n",
              "      <th>average_grades</th>\n",
              "      <th>parent_was_in_college</th>\n",
              "      <th>will_go_to_college</th>\n",
              "    </tr>\n",
              "  </thead>\n",
              "  <tbody>\n",
              "    <tr>\n",
              "      <th>492</th>\n",
              "      <td>Academic</td>\n",
              "      <td>B</td>\n",
              "      <td>Female</td>\n",
              "      <td>Very Interested</td>\n",
              "      <td>Rural</td>\n",
              "      <td>50</td>\n",
              "      <td>7540000</td>\n",
              "      <td>96.5</td>\n",
              "      <td>91.84</td>\n",
              "      <td>True</td>\n",
              "      <td>True</td>\n",
              "    </tr>\n",
              "    <tr>\n",
              "      <th>383</th>\n",
              "      <td>Academic</td>\n",
              "      <td>B</td>\n",
              "      <td>Male</td>\n",
              "      <td>Not Interested</td>\n",
              "      <td>Urban</td>\n",
              "      <td>55</td>\n",
              "      <td>5010000</td>\n",
              "      <td>86.3</td>\n",
              "      <td>82.13</td>\n",
              "      <td>False</td>\n",
              "      <td>True</td>\n",
              "    </tr>\n",
              "    <tr>\n",
              "      <th>856</th>\n",
              "      <td>Vocational</td>\n",
              "      <td>A</td>\n",
              "      <td>Male</td>\n",
              "      <td>Interested</td>\n",
              "      <td>Rural</td>\n",
              "      <td>45</td>\n",
              "      <td>7370000</td>\n",
              "      <td>79.2</td>\n",
              "      <td>86.31</td>\n",
              "      <td>True</td>\n",
              "      <td>True</td>\n",
              "    </tr>\n",
              "    <tr>\n",
              "      <th>834</th>\n",
              "      <td>Academic</td>\n",
              "      <td>B</td>\n",
              "      <td>Female</td>\n",
              "      <td>Uncertain</td>\n",
              "      <td>Rural</td>\n",
              "      <td>45</td>\n",
              "      <td>6270000</td>\n",
              "      <td>71.0</td>\n",
              "      <td>89.08</td>\n",
              "      <td>True</td>\n",
              "      <td>True</td>\n",
              "    </tr>\n",
              "    <tr>\n",
              "      <th>603</th>\n",
              "      <td>Vocational</td>\n",
              "      <td>A</td>\n",
              "      <td>Female</td>\n",
              "      <td>Very Interested</td>\n",
              "      <td>Urban</td>\n",
              "      <td>53</td>\n",
              "      <td>5420000</td>\n",
              "      <td>79.0</td>\n",
              "      <td>87.37</td>\n",
              "      <td>False</td>\n",
              "      <td>True</td>\n",
              "    </tr>\n",
              "    <tr>\n",
              "      <th>712</th>\n",
              "      <td>Academic</td>\n",
              "      <td>B</td>\n",
              "      <td>Male</td>\n",
              "      <td>Less Interested</td>\n",
              "      <td>Urban</td>\n",
              "      <td>57</td>\n",
              "      <td>5080000</td>\n",
              "      <td>88.1</td>\n",
              "      <td>83.57</td>\n",
              "      <td>False</td>\n",
              "      <td>False</td>\n",
              "    </tr>\n",
              "    <tr>\n",
              "      <th>126</th>\n",
              "      <td>Academic</td>\n",
              "      <td>B</td>\n",
              "      <td>Male</td>\n",
              "      <td>Not Interested</td>\n",
              "      <td>Rural</td>\n",
              "      <td>46</td>\n",
              "      <td>7200000</td>\n",
              "      <td>76.0</td>\n",
              "      <td>92.99</td>\n",
              "      <td>True</td>\n",
              "      <td>True</td>\n",
              "    </tr>\n",
              "    <tr>\n",
              "      <th>290</th>\n",
              "      <td>Academic</td>\n",
              "      <td>A</td>\n",
              "      <td>Female</td>\n",
              "      <td>Uncertain</td>\n",
              "      <td>Urban</td>\n",
              "      <td>58</td>\n",
              "      <td>5060000</td>\n",
              "      <td>62.1</td>\n",
              "      <td>88.85</td>\n",
              "      <td>False</td>\n",
              "      <td>False</td>\n",
              "    </tr>\n",
              "    <tr>\n",
              "      <th>549</th>\n",
              "      <td>Vocational</td>\n",
              "      <td>B</td>\n",
              "      <td>Male</td>\n",
              "      <td>Uncertain</td>\n",
              "      <td>Urban</td>\n",
              "      <td>57</td>\n",
              "      <td>4030000</td>\n",
              "      <td>77.8</td>\n",
              "      <td>83.34</td>\n",
              "      <td>True</td>\n",
              "      <td>False</td>\n",
              "    </tr>\n",
              "    <tr>\n",
              "      <th>169</th>\n",
              "      <td>Academic</td>\n",
              "      <td>B</td>\n",
              "      <td>Female</td>\n",
              "      <td>Less Interested</td>\n",
              "      <td>Urban</td>\n",
              "      <td>50</td>\n",
              "      <td>3360000</td>\n",
              "      <td>63.5</td>\n",
              "      <td>84.98</td>\n",
              "      <td>True</td>\n",
              "      <td>False</td>\n",
              "    </tr>\n",
              "  </tbody>\n",
              "</table>\n",
              "</div>"
            ],
            "text/plain": [
              "    type_school school_accreditation  gender         interest residence  \\\n",
              "492    Academic                    B  Female  Very Interested     Rural   \n",
              "383    Academic                    B    Male   Not Interested     Urban   \n",
              "856  Vocational                    A    Male       Interested     Rural   \n",
              "834    Academic                    B  Female        Uncertain     Rural   \n",
              "603  Vocational                    A  Female  Very Interested     Urban   \n",
              "712    Academic                    B    Male  Less Interested     Urban   \n",
              "126    Academic                    B    Male   Not Interested     Rural   \n",
              "290    Academic                    A  Female        Uncertain     Urban   \n",
              "549  Vocational                    B    Male        Uncertain     Urban   \n",
              "169    Academic                    B  Female  Less Interested     Urban   \n",
              "\n",
              "     parent_age  parent_salary  house_area  average_grades  \\\n",
              "492          50        7540000        96.5           91.84   \n",
              "383          55        5010000        86.3           82.13   \n",
              "856          45        7370000        79.2           86.31   \n",
              "834          45        6270000        71.0           89.08   \n",
              "603          53        5420000        79.0           87.37   \n",
              "712          57        5080000        88.1           83.57   \n",
              "126          46        7200000        76.0           92.99   \n",
              "290          58        5060000        62.1           88.85   \n",
              "549          57        4030000        77.8           83.34   \n",
              "169          50        3360000        63.5           84.98   \n",
              "\n",
              "     parent_was_in_college  will_go_to_college  \n",
              "492                   True                True  \n",
              "383                  False                True  \n",
              "856                   True                True  \n",
              "834                   True                True  \n",
              "603                  False                True  \n",
              "712                  False               False  \n",
              "126                   True                True  \n",
              "290                  False               False  \n",
              "549                   True               False  \n",
              "169                   True               False  "
            ]
          },
          "execution_count": 14,
          "metadata": {},
          "output_type": "execute_result"
        }
      ],
      "source": [
        "# Get Data For Model Inference\n",
        "\n",
        "data_inf = data.sample (10, random_state = 21)\n",
        "data_inf"
      ]
    },
    {
      "cell_type": "code",
      "execution_count": 15,
      "metadata": {},
      "outputs": [
        {
          "data": {
            "text/html": [
              "<div>\n",
              "<style scoped>\n",
              "    .dataframe tbody tr th:only-of-type {\n",
              "        vertical-align: middle;\n",
              "    }\n",
              "\n",
              "    .dataframe tbody tr th {\n",
              "        vertical-align: top;\n",
              "    }\n",
              "\n",
              "    .dataframe thead th {\n",
              "        text-align: right;\n",
              "    }\n",
              "</style>\n",
              "<table border=\"1\" class=\"dataframe\">\n",
              "  <thead>\n",
              "    <tr style=\"text-align: right;\">\n",
              "      <th></th>\n",
              "      <th>type_school</th>\n",
              "      <th>school_accreditation</th>\n",
              "      <th>gender</th>\n",
              "      <th>interest</th>\n",
              "      <th>residence</th>\n",
              "      <th>parent_age</th>\n",
              "      <th>parent_salary</th>\n",
              "      <th>house_area</th>\n",
              "      <th>average_grades</th>\n",
              "      <th>parent_was_in_college</th>\n",
              "      <th>will_go_to_college</th>\n",
              "    </tr>\n",
              "  </thead>\n",
              "  <tbody>\n",
              "    <tr>\n",
              "      <th>0</th>\n",
              "      <td>Academic</td>\n",
              "      <td>A</td>\n",
              "      <td>Male</td>\n",
              "      <td>Less Interested</td>\n",
              "      <td>Urban</td>\n",
              "      <td>56</td>\n",
              "      <td>6950000</td>\n",
              "      <td>83.0</td>\n",
              "      <td>84.09</td>\n",
              "      <td>False</td>\n",
              "      <td>True</td>\n",
              "    </tr>\n",
              "    <tr>\n",
              "      <th>1</th>\n",
              "      <td>Academic</td>\n",
              "      <td>A</td>\n",
              "      <td>Male</td>\n",
              "      <td>Less Interested</td>\n",
              "      <td>Urban</td>\n",
              "      <td>57</td>\n",
              "      <td>4410000</td>\n",
              "      <td>76.8</td>\n",
              "      <td>86.91</td>\n",
              "      <td>False</td>\n",
              "      <td>True</td>\n",
              "    </tr>\n",
              "    <tr>\n",
              "      <th>2</th>\n",
              "      <td>Academic</td>\n",
              "      <td>B</td>\n",
              "      <td>Female</td>\n",
              "      <td>Very Interested</td>\n",
              "      <td>Urban</td>\n",
              "      <td>50</td>\n",
              "      <td>6500000</td>\n",
              "      <td>80.6</td>\n",
              "      <td>87.43</td>\n",
              "      <td>False</td>\n",
              "      <td>True</td>\n",
              "    </tr>\n",
              "    <tr>\n",
              "      <th>3</th>\n",
              "      <td>Vocational</td>\n",
              "      <td>B</td>\n",
              "      <td>Male</td>\n",
              "      <td>Very Interested</td>\n",
              "      <td>Rural</td>\n",
              "      <td>49</td>\n",
              "      <td>6600000</td>\n",
              "      <td>78.2</td>\n",
              "      <td>82.12</td>\n",
              "      <td>True</td>\n",
              "      <td>True</td>\n",
              "    </tr>\n",
              "    <tr>\n",
              "      <th>4</th>\n",
              "      <td>Academic</td>\n",
              "      <td>A</td>\n",
              "      <td>Female</td>\n",
              "      <td>Very Interested</td>\n",
              "      <td>Urban</td>\n",
              "      <td>57</td>\n",
              "      <td>5250000</td>\n",
              "      <td>75.1</td>\n",
              "      <td>86.79</td>\n",
              "      <td>False</td>\n",
              "      <td>False</td>\n",
              "    </tr>\n",
              "    <tr>\n",
              "      <th>...</th>\n",
              "      <td>...</td>\n",
              "      <td>...</td>\n",
              "      <td>...</td>\n",
              "      <td>...</td>\n",
              "      <td>...</td>\n",
              "      <td>...</td>\n",
              "      <td>...</td>\n",
              "      <td>...</td>\n",
              "      <td>...</td>\n",
              "      <td>...</td>\n",
              "      <td>...</td>\n",
              "    </tr>\n",
              "    <tr>\n",
              "      <th>995</th>\n",
              "      <td>Vocational</td>\n",
              "      <td>A</td>\n",
              "      <td>Female</td>\n",
              "      <td>Very Interested</td>\n",
              "      <td>Rural</td>\n",
              "      <td>49</td>\n",
              "      <td>7420000</td>\n",
              "      <td>63.6</td>\n",
              "      <td>85.99</td>\n",
              "      <td>True</td>\n",
              "      <td>True</td>\n",
              "    </tr>\n",
              "    <tr>\n",
              "      <th>996</th>\n",
              "      <td>Academic</td>\n",
              "      <td>B</td>\n",
              "      <td>Female</td>\n",
              "      <td>Less Interested</td>\n",
              "      <td>Rural</td>\n",
              "      <td>51</td>\n",
              "      <td>7480000</td>\n",
              "      <td>84.3</td>\n",
              "      <td>89.72</td>\n",
              "      <td>True</td>\n",
              "      <td>True</td>\n",
              "    </tr>\n",
              "    <tr>\n",
              "      <th>997</th>\n",
              "      <td>Vocational</td>\n",
              "      <td>A</td>\n",
              "      <td>Male</td>\n",
              "      <td>Less Interested</td>\n",
              "      <td>Urban</td>\n",
              "      <td>49</td>\n",
              "      <td>5550000</td>\n",
              "      <td>75.2</td>\n",
              "      <td>79.56</td>\n",
              "      <td>False</td>\n",
              "      <td>True</td>\n",
              "    </tr>\n",
              "    <tr>\n",
              "      <th>998</th>\n",
              "      <td>Academic</td>\n",
              "      <td>B</td>\n",
              "      <td>Male</td>\n",
              "      <td>Uncertain</td>\n",
              "      <td>Rural</td>\n",
              "      <td>53</td>\n",
              "      <td>5840000</td>\n",
              "      <td>105.8</td>\n",
              "      <td>87.18</td>\n",
              "      <td>True</td>\n",
              "      <td>True</td>\n",
              "    </tr>\n",
              "    <tr>\n",
              "      <th>999</th>\n",
              "      <td>Academic</td>\n",
              "      <td>B</td>\n",
              "      <td>Male</td>\n",
              "      <td>Interested</td>\n",
              "      <td>Urban</td>\n",
              "      <td>50</td>\n",
              "      <td>2940000</td>\n",
              "      <td>69.1</td>\n",
              "      <td>86.13</td>\n",
              "      <td>True</td>\n",
              "      <td>False</td>\n",
              "    </tr>\n",
              "  </tbody>\n",
              "</table>\n",
              "<p>990 rows × 11 columns</p>\n",
              "</div>"
            ],
            "text/plain": [
              "    type_school school_accreditation  gender         interest residence  \\\n",
              "0      Academic                    A    Male  Less Interested     Urban   \n",
              "1      Academic                    A    Male  Less Interested     Urban   \n",
              "2      Academic                    B  Female  Very Interested     Urban   \n",
              "3    Vocational                    B    Male  Very Interested     Rural   \n",
              "4      Academic                    A  Female  Very Interested     Urban   \n",
              "..          ...                  ...     ...              ...       ...   \n",
              "995  Vocational                    A  Female  Very Interested     Rural   \n",
              "996    Academic                    B  Female  Less Interested     Rural   \n",
              "997  Vocational                    A    Male  Less Interested     Urban   \n",
              "998    Academic                    B    Male        Uncertain     Rural   \n",
              "999    Academic                    B    Male       Interested     Urban   \n",
              "\n",
              "     parent_age  parent_salary  house_area  average_grades  \\\n",
              "0            56        6950000        83.0           84.09   \n",
              "1            57        4410000        76.8           86.91   \n",
              "2            50        6500000        80.6           87.43   \n",
              "3            49        6600000        78.2           82.12   \n",
              "4            57        5250000        75.1           86.79   \n",
              "..          ...            ...         ...             ...   \n",
              "995          49        7420000        63.6           85.99   \n",
              "996          51        7480000        84.3           89.72   \n",
              "997          49        5550000        75.2           79.56   \n",
              "998          53        5840000       105.8           87.18   \n",
              "999          50        2940000        69.1           86.13   \n",
              "\n",
              "     parent_was_in_college  will_go_to_college  \n",
              "0                    False                True  \n",
              "1                    False                True  \n",
              "2                    False                True  \n",
              "3                     True                True  \n",
              "4                    False               False  \n",
              "..                     ...                 ...  \n",
              "995                   True                True  \n",
              "996                   True                True  \n",
              "997                  False                True  \n",
              "998                   True                True  \n",
              "999                   True               False  \n",
              "\n",
              "[990 rows x 11 columns]"
            ]
          },
          "execution_count": 15,
          "metadata": {},
          "output_type": "execute_result"
        }
      ],
      "source": [
        "# Remove Inference - Set from Dataset\n",
        "\n",
        "data_train_test = data.drop (data_inf.index)\n",
        "data_train_test"
      ]
    },
    {
      "cell_type": "code",
      "execution_count": 16,
      "metadata": {},
      "outputs": [
        {
          "data": {
            "text/html": [
              "<div>\n",
              "<style scoped>\n",
              "    .dataframe tbody tr th:only-of-type {\n",
              "        vertical-align: middle;\n",
              "    }\n",
              "\n",
              "    .dataframe tbody tr th {\n",
              "        vertical-align: top;\n",
              "    }\n",
              "\n",
              "    .dataframe thead th {\n",
              "        text-align: right;\n",
              "    }\n",
              "</style>\n",
              "<table border=\"1\" class=\"dataframe\">\n",
              "  <thead>\n",
              "    <tr style=\"text-align: right;\">\n",
              "      <th></th>\n",
              "      <th>type_school</th>\n",
              "      <th>school_accreditation</th>\n",
              "      <th>gender</th>\n",
              "      <th>interest</th>\n",
              "      <th>residence</th>\n",
              "      <th>parent_age</th>\n",
              "      <th>parent_salary</th>\n",
              "      <th>house_area</th>\n",
              "      <th>average_grades</th>\n",
              "      <th>parent_was_in_college</th>\n",
              "      <th>will_go_to_college</th>\n",
              "    </tr>\n",
              "  </thead>\n",
              "  <tbody>\n",
              "    <tr>\n",
              "      <th>0</th>\n",
              "      <td>Academic</td>\n",
              "      <td>B</td>\n",
              "      <td>Female</td>\n",
              "      <td>Very Interested</td>\n",
              "      <td>Rural</td>\n",
              "      <td>50</td>\n",
              "      <td>7540000</td>\n",
              "      <td>96.5</td>\n",
              "      <td>91.84</td>\n",
              "      <td>True</td>\n",
              "      <td>True</td>\n",
              "    </tr>\n",
              "    <tr>\n",
              "      <th>1</th>\n",
              "      <td>Academic</td>\n",
              "      <td>B</td>\n",
              "      <td>Male</td>\n",
              "      <td>Not Interested</td>\n",
              "      <td>Urban</td>\n",
              "      <td>55</td>\n",
              "      <td>5010000</td>\n",
              "      <td>86.3</td>\n",
              "      <td>82.13</td>\n",
              "      <td>False</td>\n",
              "      <td>True</td>\n",
              "    </tr>\n",
              "    <tr>\n",
              "      <th>2</th>\n",
              "      <td>Vocational</td>\n",
              "      <td>A</td>\n",
              "      <td>Male</td>\n",
              "      <td>Interested</td>\n",
              "      <td>Rural</td>\n",
              "      <td>45</td>\n",
              "      <td>7370000</td>\n",
              "      <td>79.2</td>\n",
              "      <td>86.31</td>\n",
              "      <td>True</td>\n",
              "      <td>True</td>\n",
              "    </tr>\n",
              "    <tr>\n",
              "      <th>3</th>\n",
              "      <td>Academic</td>\n",
              "      <td>B</td>\n",
              "      <td>Female</td>\n",
              "      <td>Uncertain</td>\n",
              "      <td>Rural</td>\n",
              "      <td>45</td>\n",
              "      <td>6270000</td>\n",
              "      <td>71.0</td>\n",
              "      <td>89.08</td>\n",
              "      <td>True</td>\n",
              "      <td>True</td>\n",
              "    </tr>\n",
              "    <tr>\n",
              "      <th>4</th>\n",
              "      <td>Vocational</td>\n",
              "      <td>A</td>\n",
              "      <td>Female</td>\n",
              "      <td>Very Interested</td>\n",
              "      <td>Urban</td>\n",
              "      <td>53</td>\n",
              "      <td>5420000</td>\n",
              "      <td>79.0</td>\n",
              "      <td>87.37</td>\n",
              "      <td>False</td>\n",
              "      <td>True</td>\n",
              "    </tr>\n",
              "    <tr>\n",
              "      <th>5</th>\n",
              "      <td>Academic</td>\n",
              "      <td>B</td>\n",
              "      <td>Male</td>\n",
              "      <td>Less Interested</td>\n",
              "      <td>Urban</td>\n",
              "      <td>57</td>\n",
              "      <td>5080000</td>\n",
              "      <td>88.1</td>\n",
              "      <td>83.57</td>\n",
              "      <td>False</td>\n",
              "      <td>False</td>\n",
              "    </tr>\n",
              "    <tr>\n",
              "      <th>6</th>\n",
              "      <td>Academic</td>\n",
              "      <td>B</td>\n",
              "      <td>Male</td>\n",
              "      <td>Not Interested</td>\n",
              "      <td>Rural</td>\n",
              "      <td>46</td>\n",
              "      <td>7200000</td>\n",
              "      <td>76.0</td>\n",
              "      <td>92.99</td>\n",
              "      <td>True</td>\n",
              "      <td>True</td>\n",
              "    </tr>\n",
              "    <tr>\n",
              "      <th>7</th>\n",
              "      <td>Academic</td>\n",
              "      <td>A</td>\n",
              "      <td>Female</td>\n",
              "      <td>Uncertain</td>\n",
              "      <td>Urban</td>\n",
              "      <td>58</td>\n",
              "      <td>5060000</td>\n",
              "      <td>62.1</td>\n",
              "      <td>88.85</td>\n",
              "      <td>False</td>\n",
              "      <td>False</td>\n",
              "    </tr>\n",
              "    <tr>\n",
              "      <th>8</th>\n",
              "      <td>Vocational</td>\n",
              "      <td>B</td>\n",
              "      <td>Male</td>\n",
              "      <td>Uncertain</td>\n",
              "      <td>Urban</td>\n",
              "      <td>57</td>\n",
              "      <td>4030000</td>\n",
              "      <td>77.8</td>\n",
              "      <td>83.34</td>\n",
              "      <td>True</td>\n",
              "      <td>False</td>\n",
              "    </tr>\n",
              "    <tr>\n",
              "      <th>9</th>\n",
              "      <td>Academic</td>\n",
              "      <td>B</td>\n",
              "      <td>Female</td>\n",
              "      <td>Less Interested</td>\n",
              "      <td>Urban</td>\n",
              "      <td>50</td>\n",
              "      <td>3360000</td>\n",
              "      <td>63.5</td>\n",
              "      <td>84.98</td>\n",
              "      <td>True</td>\n",
              "      <td>False</td>\n",
              "    </tr>\n",
              "  </tbody>\n",
              "</table>\n",
              "</div>"
            ],
            "text/plain": [
              "  type_school school_accreditation  gender         interest residence  \\\n",
              "0    Academic                    B  Female  Very Interested     Rural   \n",
              "1    Academic                    B    Male   Not Interested     Urban   \n",
              "2  Vocational                    A    Male       Interested     Rural   \n",
              "3    Academic                    B  Female        Uncertain     Rural   \n",
              "4  Vocational                    A  Female  Very Interested     Urban   \n",
              "5    Academic                    B    Male  Less Interested     Urban   \n",
              "6    Academic                    B    Male   Not Interested     Rural   \n",
              "7    Academic                    A  Female        Uncertain     Urban   \n",
              "8  Vocational                    B    Male        Uncertain     Urban   \n",
              "9    Academic                    B  Female  Less Interested     Urban   \n",
              "\n",
              "   parent_age  parent_salary  house_area  average_grades  \\\n",
              "0          50        7540000        96.5           91.84   \n",
              "1          55        5010000        86.3           82.13   \n",
              "2          45        7370000        79.2           86.31   \n",
              "3          45        6270000        71.0           89.08   \n",
              "4          53        5420000        79.0           87.37   \n",
              "5          57        5080000        88.1           83.57   \n",
              "6          46        7200000        76.0           92.99   \n",
              "7          58        5060000        62.1           88.85   \n",
              "8          57        4030000        77.8           83.34   \n",
              "9          50        3360000        63.5           84.98   \n",
              "\n",
              "   parent_was_in_college  will_go_to_college  \n",
              "0                   True                True  \n",
              "1                  False                True  \n",
              "2                   True                True  \n",
              "3                   True                True  \n",
              "4                  False                True  \n",
              "5                  False               False  \n",
              "6                   True                True  \n",
              "7                  False               False  \n",
              "8                   True               False  \n",
              "9                   True               False  "
            ]
          },
          "execution_count": 16,
          "metadata": {},
          "output_type": "execute_result"
        }
      ],
      "source": [
        "# Reset Index\n",
        "\n",
        "data_train_test.reset_index (drop = True, inplace = True)\n",
        "data_inf.reset_index (drop = True, inplace = True)\n",
        "data_inf"
      ]
    },
    {
      "cell_type": "markdown",
      "metadata": {},
      "source": [
        "## Feature Selection"
      ]
    },
    {
      "cell_type": "code",
      "execution_count": 17,
      "metadata": {},
      "outputs": [
        {
          "data": {
            "text/html": [
              "<div>\n",
              "<style scoped>\n",
              "    .dataframe tbody tr th:only-of-type {\n",
              "        vertical-align: middle;\n",
              "    }\n",
              "\n",
              "    .dataframe tbody tr th {\n",
              "        vertical-align: top;\n",
              "    }\n",
              "\n",
              "    .dataframe thead th {\n",
              "        text-align: right;\n",
              "    }\n",
              "</style>\n",
              "<table border=\"1\" class=\"dataframe\">\n",
              "  <thead>\n",
              "    <tr style=\"text-align: right;\">\n",
              "      <th></th>\n",
              "      <th>type_school</th>\n",
              "      <th>school_accreditation</th>\n",
              "      <th>gender</th>\n",
              "      <th>interest</th>\n",
              "      <th>residence</th>\n",
              "      <th>parent_age</th>\n",
              "      <th>parent_salary</th>\n",
              "      <th>house_area</th>\n",
              "      <th>average_grades</th>\n",
              "      <th>parent_was_in_college</th>\n",
              "      <th>will_go_to_college</th>\n",
              "    </tr>\n",
              "  </thead>\n",
              "  <tbody>\n",
              "    <tr>\n",
              "      <th>0</th>\n",
              "      <td>Academic</td>\n",
              "      <td>A</td>\n",
              "      <td>Male</td>\n",
              "      <td>Less Interested</td>\n",
              "      <td>Urban</td>\n",
              "      <td>56</td>\n",
              "      <td>6950000</td>\n",
              "      <td>83.0</td>\n",
              "      <td>84.09</td>\n",
              "      <td>False</td>\n",
              "      <td>True</td>\n",
              "    </tr>\n",
              "    <tr>\n",
              "      <th>1</th>\n",
              "      <td>Academic</td>\n",
              "      <td>A</td>\n",
              "      <td>Male</td>\n",
              "      <td>Less Interested</td>\n",
              "      <td>Urban</td>\n",
              "      <td>57</td>\n",
              "      <td>4410000</td>\n",
              "      <td>76.8</td>\n",
              "      <td>86.91</td>\n",
              "      <td>False</td>\n",
              "      <td>True</td>\n",
              "    </tr>\n",
              "    <tr>\n",
              "      <th>2</th>\n",
              "      <td>Academic</td>\n",
              "      <td>B</td>\n",
              "      <td>Female</td>\n",
              "      <td>Very Interested</td>\n",
              "      <td>Urban</td>\n",
              "      <td>50</td>\n",
              "      <td>6500000</td>\n",
              "      <td>80.6</td>\n",
              "      <td>87.43</td>\n",
              "      <td>False</td>\n",
              "      <td>True</td>\n",
              "    </tr>\n",
              "    <tr>\n",
              "      <th>3</th>\n",
              "      <td>Vocational</td>\n",
              "      <td>B</td>\n",
              "      <td>Male</td>\n",
              "      <td>Very Interested</td>\n",
              "      <td>Rural</td>\n",
              "      <td>49</td>\n",
              "      <td>6600000</td>\n",
              "      <td>78.2</td>\n",
              "      <td>82.12</td>\n",
              "      <td>True</td>\n",
              "      <td>True</td>\n",
              "    </tr>\n",
              "    <tr>\n",
              "      <th>4</th>\n",
              "      <td>Academic</td>\n",
              "      <td>A</td>\n",
              "      <td>Female</td>\n",
              "      <td>Very Interested</td>\n",
              "      <td>Urban</td>\n",
              "      <td>57</td>\n",
              "      <td>5250000</td>\n",
              "      <td>75.1</td>\n",
              "      <td>86.79</td>\n",
              "      <td>False</td>\n",
              "      <td>False</td>\n",
              "    </tr>\n",
              "    <tr>\n",
              "      <th>...</th>\n",
              "      <td>...</td>\n",
              "      <td>...</td>\n",
              "      <td>...</td>\n",
              "      <td>...</td>\n",
              "      <td>...</td>\n",
              "      <td>...</td>\n",
              "      <td>...</td>\n",
              "      <td>...</td>\n",
              "      <td>...</td>\n",
              "      <td>...</td>\n",
              "      <td>...</td>\n",
              "    </tr>\n",
              "    <tr>\n",
              "      <th>985</th>\n",
              "      <td>Vocational</td>\n",
              "      <td>A</td>\n",
              "      <td>Female</td>\n",
              "      <td>Very Interested</td>\n",
              "      <td>Rural</td>\n",
              "      <td>49</td>\n",
              "      <td>7420000</td>\n",
              "      <td>63.6</td>\n",
              "      <td>85.99</td>\n",
              "      <td>True</td>\n",
              "      <td>True</td>\n",
              "    </tr>\n",
              "    <tr>\n",
              "      <th>986</th>\n",
              "      <td>Academic</td>\n",
              "      <td>B</td>\n",
              "      <td>Female</td>\n",
              "      <td>Less Interested</td>\n",
              "      <td>Rural</td>\n",
              "      <td>51</td>\n",
              "      <td>7480000</td>\n",
              "      <td>84.3</td>\n",
              "      <td>89.72</td>\n",
              "      <td>True</td>\n",
              "      <td>True</td>\n",
              "    </tr>\n",
              "    <tr>\n",
              "      <th>987</th>\n",
              "      <td>Vocational</td>\n",
              "      <td>A</td>\n",
              "      <td>Male</td>\n",
              "      <td>Less Interested</td>\n",
              "      <td>Urban</td>\n",
              "      <td>49</td>\n",
              "      <td>5550000</td>\n",
              "      <td>75.2</td>\n",
              "      <td>79.56</td>\n",
              "      <td>False</td>\n",
              "      <td>True</td>\n",
              "    </tr>\n",
              "    <tr>\n",
              "      <th>988</th>\n",
              "      <td>Academic</td>\n",
              "      <td>B</td>\n",
              "      <td>Male</td>\n",
              "      <td>Uncertain</td>\n",
              "      <td>Rural</td>\n",
              "      <td>53</td>\n",
              "      <td>5840000</td>\n",
              "      <td>105.8</td>\n",
              "      <td>87.18</td>\n",
              "      <td>True</td>\n",
              "      <td>True</td>\n",
              "    </tr>\n",
              "    <tr>\n",
              "      <th>989</th>\n",
              "      <td>Academic</td>\n",
              "      <td>B</td>\n",
              "      <td>Male</td>\n",
              "      <td>Interested</td>\n",
              "      <td>Urban</td>\n",
              "      <td>50</td>\n",
              "      <td>2940000</td>\n",
              "      <td>69.1</td>\n",
              "      <td>86.13</td>\n",
              "      <td>True</td>\n",
              "      <td>False</td>\n",
              "    </tr>\n",
              "  </tbody>\n",
              "</table>\n",
              "<p>990 rows × 11 columns</p>\n",
              "</div>"
            ],
            "text/plain": [
              "    type_school school_accreditation  gender         interest residence  \\\n",
              "0      Academic                    A    Male  Less Interested     Urban   \n",
              "1      Academic                    A    Male  Less Interested     Urban   \n",
              "2      Academic                    B  Female  Very Interested     Urban   \n",
              "3    Vocational                    B    Male  Very Interested     Rural   \n",
              "4      Academic                    A  Female  Very Interested     Urban   \n",
              "..          ...                  ...     ...              ...       ...   \n",
              "985  Vocational                    A  Female  Very Interested     Rural   \n",
              "986    Academic                    B  Female  Less Interested     Rural   \n",
              "987  Vocational                    A    Male  Less Interested     Urban   \n",
              "988    Academic                    B    Male        Uncertain     Rural   \n",
              "989    Academic                    B    Male       Interested     Urban   \n",
              "\n",
              "     parent_age  parent_salary  house_area  average_grades  \\\n",
              "0            56        6950000        83.0           84.09   \n",
              "1            57        4410000        76.8           86.91   \n",
              "2            50        6500000        80.6           87.43   \n",
              "3            49        6600000        78.2           82.12   \n",
              "4            57        5250000        75.1           86.79   \n",
              "..          ...            ...         ...             ...   \n",
              "985          49        7420000        63.6           85.99   \n",
              "986          51        7480000        84.3           89.72   \n",
              "987          49        5550000        75.2           79.56   \n",
              "988          53        5840000       105.8           87.18   \n",
              "989          50        2940000        69.1           86.13   \n",
              "\n",
              "     parent_was_in_college  will_go_to_college  \n",
              "0                    False                True  \n",
              "1                    False                True  \n",
              "2                    False                True  \n",
              "3                     True                True  \n",
              "4                    False               False  \n",
              "..                     ...                 ...  \n",
              "985                   True                True  \n",
              "986                   True                True  \n",
              "987                  False                True  \n",
              "988                   True                True  \n",
              "989                   True               False  \n",
              "\n",
              "[990 rows x 11 columns]"
            ]
          },
          "execution_count": 17,
          "metadata": {},
          "output_type": "execute_result"
        }
      ],
      "source": [
        "# Display data_train_test\n",
        "\n",
        "data_train_test"
      ]
    },
    {
      "cell_type": "markdown",
      "metadata": {},
      "source": [
        "## Splitting Dataset\n"
      ]
    },
    {
      "cell_type": "code",
      "execution_count": 18,
      "metadata": {},
      "outputs": [
        {
          "data": {
            "text/html": [
              "<div>\n",
              "<style scoped>\n",
              "    .dataframe tbody tr th:only-of-type {\n",
              "        vertical-align: middle;\n",
              "    }\n",
              "\n",
              "    .dataframe tbody tr th {\n",
              "        vertical-align: top;\n",
              "    }\n",
              "\n",
              "    .dataframe thead th {\n",
              "        text-align: right;\n",
              "    }\n",
              "</style>\n",
              "<table border=\"1\" class=\"dataframe\">\n",
              "  <thead>\n",
              "    <tr style=\"text-align: right;\">\n",
              "      <th></th>\n",
              "      <th>type_school</th>\n",
              "      <th>school_accreditation</th>\n",
              "      <th>gender</th>\n",
              "      <th>interest</th>\n",
              "      <th>residence</th>\n",
              "      <th>parent_age</th>\n",
              "      <th>parent_salary</th>\n",
              "      <th>house_area</th>\n",
              "      <th>average_grades</th>\n",
              "      <th>parent_was_in_college</th>\n",
              "      <th>will_go_to_college</th>\n",
              "    </tr>\n",
              "  </thead>\n",
              "  <tbody>\n",
              "    <tr>\n",
              "      <th>0</th>\n",
              "      <td>Academic</td>\n",
              "      <td>A</td>\n",
              "      <td>Male</td>\n",
              "      <td>Less Interested</td>\n",
              "      <td>Urban</td>\n",
              "      <td>56</td>\n",
              "      <td>6950000</td>\n",
              "      <td>83.0</td>\n",
              "      <td>84.09</td>\n",
              "      <td>False</td>\n",
              "      <td>True</td>\n",
              "    </tr>\n",
              "    <tr>\n",
              "      <th>1</th>\n",
              "      <td>Academic</td>\n",
              "      <td>A</td>\n",
              "      <td>Male</td>\n",
              "      <td>Less Interested</td>\n",
              "      <td>Urban</td>\n",
              "      <td>57</td>\n",
              "      <td>4410000</td>\n",
              "      <td>76.8</td>\n",
              "      <td>86.91</td>\n",
              "      <td>False</td>\n",
              "      <td>True</td>\n",
              "    </tr>\n",
              "    <tr>\n",
              "      <th>2</th>\n",
              "      <td>Academic</td>\n",
              "      <td>B</td>\n",
              "      <td>Female</td>\n",
              "      <td>Very Interested</td>\n",
              "      <td>Urban</td>\n",
              "      <td>50</td>\n",
              "      <td>6500000</td>\n",
              "      <td>80.6</td>\n",
              "      <td>87.43</td>\n",
              "      <td>False</td>\n",
              "      <td>True</td>\n",
              "    </tr>\n",
              "    <tr>\n",
              "      <th>3</th>\n",
              "      <td>Vocational</td>\n",
              "      <td>B</td>\n",
              "      <td>Male</td>\n",
              "      <td>Very Interested</td>\n",
              "      <td>Rural</td>\n",
              "      <td>49</td>\n",
              "      <td>6600000</td>\n",
              "      <td>78.2</td>\n",
              "      <td>82.12</td>\n",
              "      <td>True</td>\n",
              "      <td>True</td>\n",
              "    </tr>\n",
              "    <tr>\n",
              "      <th>4</th>\n",
              "      <td>Academic</td>\n",
              "      <td>A</td>\n",
              "      <td>Female</td>\n",
              "      <td>Very Interested</td>\n",
              "      <td>Urban</td>\n",
              "      <td>57</td>\n",
              "      <td>5250000</td>\n",
              "      <td>75.1</td>\n",
              "      <td>86.79</td>\n",
              "      <td>False</td>\n",
              "      <td>False</td>\n",
              "    </tr>\n",
              "    <tr>\n",
              "      <th>...</th>\n",
              "      <td>...</td>\n",
              "      <td>...</td>\n",
              "      <td>...</td>\n",
              "      <td>...</td>\n",
              "      <td>...</td>\n",
              "      <td>...</td>\n",
              "      <td>...</td>\n",
              "      <td>...</td>\n",
              "      <td>...</td>\n",
              "      <td>...</td>\n",
              "      <td>...</td>\n",
              "    </tr>\n",
              "    <tr>\n",
              "      <th>995</th>\n",
              "      <td>Vocational</td>\n",
              "      <td>A</td>\n",
              "      <td>Female</td>\n",
              "      <td>Very Interested</td>\n",
              "      <td>Rural</td>\n",
              "      <td>49</td>\n",
              "      <td>7420000</td>\n",
              "      <td>63.6</td>\n",
              "      <td>85.99</td>\n",
              "      <td>True</td>\n",
              "      <td>True</td>\n",
              "    </tr>\n",
              "    <tr>\n",
              "      <th>996</th>\n",
              "      <td>Academic</td>\n",
              "      <td>B</td>\n",
              "      <td>Female</td>\n",
              "      <td>Less Interested</td>\n",
              "      <td>Rural</td>\n",
              "      <td>51</td>\n",
              "      <td>7480000</td>\n",
              "      <td>84.3</td>\n",
              "      <td>89.72</td>\n",
              "      <td>True</td>\n",
              "      <td>True</td>\n",
              "    </tr>\n",
              "    <tr>\n",
              "      <th>997</th>\n",
              "      <td>Vocational</td>\n",
              "      <td>A</td>\n",
              "      <td>Male</td>\n",
              "      <td>Less Interested</td>\n",
              "      <td>Urban</td>\n",
              "      <td>49</td>\n",
              "      <td>5550000</td>\n",
              "      <td>75.2</td>\n",
              "      <td>79.56</td>\n",
              "      <td>False</td>\n",
              "      <td>True</td>\n",
              "    </tr>\n",
              "    <tr>\n",
              "      <th>998</th>\n",
              "      <td>Academic</td>\n",
              "      <td>B</td>\n",
              "      <td>Male</td>\n",
              "      <td>Uncertain</td>\n",
              "      <td>Rural</td>\n",
              "      <td>53</td>\n",
              "      <td>5840000</td>\n",
              "      <td>105.8</td>\n",
              "      <td>87.18</td>\n",
              "      <td>True</td>\n",
              "      <td>True</td>\n",
              "    </tr>\n",
              "    <tr>\n",
              "      <th>999</th>\n",
              "      <td>Academic</td>\n",
              "      <td>B</td>\n",
              "      <td>Male</td>\n",
              "      <td>Interested</td>\n",
              "      <td>Urban</td>\n",
              "      <td>50</td>\n",
              "      <td>2940000</td>\n",
              "      <td>69.1</td>\n",
              "      <td>86.13</td>\n",
              "      <td>True</td>\n",
              "      <td>False</td>\n",
              "    </tr>\n",
              "  </tbody>\n",
              "</table>\n",
              "<p>1000 rows × 11 columns</p>\n",
              "</div>"
            ],
            "text/plain": [
              "    type_school school_accreditation  gender         interest residence  \\\n",
              "0      Academic                    A    Male  Less Interested     Urban   \n",
              "1      Academic                    A    Male  Less Interested     Urban   \n",
              "2      Academic                    B  Female  Very Interested     Urban   \n",
              "3    Vocational                    B    Male  Very Interested     Rural   \n",
              "4      Academic                    A  Female  Very Interested     Urban   \n",
              "..          ...                  ...     ...              ...       ...   \n",
              "995  Vocational                    A  Female  Very Interested     Rural   \n",
              "996    Academic                    B  Female  Less Interested     Rural   \n",
              "997  Vocational                    A    Male  Less Interested     Urban   \n",
              "998    Academic                    B    Male        Uncertain     Rural   \n",
              "999    Academic                    B    Male       Interested     Urban   \n",
              "\n",
              "     parent_age  parent_salary  house_area  average_grades  \\\n",
              "0            56        6950000        83.0           84.09   \n",
              "1            57        4410000        76.8           86.91   \n",
              "2            50        6500000        80.6           87.43   \n",
              "3            49        6600000        78.2           82.12   \n",
              "4            57        5250000        75.1           86.79   \n",
              "..          ...            ...         ...             ...   \n",
              "995          49        7420000        63.6           85.99   \n",
              "996          51        7480000        84.3           89.72   \n",
              "997          49        5550000        75.2           79.56   \n",
              "998          53        5840000       105.8           87.18   \n",
              "999          50        2940000        69.1           86.13   \n",
              "\n",
              "     parent_was_in_college  will_go_to_college  \n",
              "0                    False                True  \n",
              "1                    False                True  \n",
              "2                    False                True  \n",
              "3                     True                True  \n",
              "4                    False               False  \n",
              "..                     ...                 ...  \n",
              "995                   True                True  \n",
              "996                   True                True  \n",
              "997                  False                True  \n",
              "998                   True                True  \n",
              "999                   True               False  \n",
              "\n",
              "[1000 rows x 11 columns]"
            ]
          },
          "execution_count": 18,
          "metadata": {},
          "output_type": "execute_result"
        }
      ],
      "source": [
        "data"
      ]
    },
    {
      "cell_type": "markdown",
      "metadata": {},
      "source": [
        "Berdasarkan hasil EDA jika dilihat dari heatmap kolom yang memiliki korelasi dengan `will_go_to_college` adalah `parent_salary, house_area, average_grades`\n",
        "\n",
        "Berdasarkan hasil EDA dan personal judgement, kolom `type_school, school_accreditation, interest, residence` juga memiliki pengaruh terhadap `will_go_to_college` oleh karena itu kita memilih kolom tersebut ke dalam Feature Selection"
      ]
    },
    {
      "cell_type": "code",
      "execution_count": 19,
      "metadata": {},
      "outputs": [],
      "source": [
        "# Split between `X` (Features) and `y` (Target)\n",
        "\n",
        "X = data_train_test[['type_school', 'school_accreditation', 'interest', 'residence', 'parent_salary', 'house_area', 'average_grades']]\n",
        "y = data_train_test[['will_go_to_college']]"
      ]
    },
    {
      "cell_type": "code",
      "execution_count": 20,
      "metadata": {},
      "outputs": [
        {
          "name": "stdout",
          "output_type": "stream",
          "text": [
            "Train Size :  (792, 7)\n",
            "Test Size :  (198, 7)\n"
          ]
        }
      ],
      "source": [
        "# Split between Train-Set and Test-Set\n",
        "\n",
        "X_train, X_test, y_train, y_test = train_test_split(X, y, test_size = 0.2, random_state = 3)\n",
        "\n",
        "print('Train Size : ', X_train.shape)\n",
        "print('Test Size : ', X_test.shape)"
      ]
    },
    {
      "cell_type": "markdown",
      "metadata": {},
      "source": [
        "## Handling Outliers"
      ]
    },
    {
      "cell_type": "code",
      "execution_count": 21,
      "metadata": {},
      "outputs": [
        {
          "name": "stdout",
          "output_type": "stream",
          "text": [
            "Skewness :  -0.011888775989169703\n",
            "Skewness :  -0.24314296858731585\n",
            "Skewness :  0.48417805911805517\n"
          ]
        }
      ],
      "source": [
        "print ('Skewness : ', X_train['parent_salary'].skew ())\n",
        "print ('Skewness : ', X_train['house_area'].skew ())\n",
        "print ('Skewness : ', X_train['average_grades'].skew ())"
      ]
    },
    {
      "cell_type": "markdown",
      "metadata": {},
      "source": [
        "Jika dilihat dari skewnessnya, semua kolom distribusi datanya adalah distribusi normal karena skewnessnya berada di rentang -0.5 - 0.5"
      ]
    },
    {
      "cell_type": "code",
      "execution_count": 22,
      "metadata": {},
      "outputs": [
        {
          "data": {
            "image/png": "[encoded data removed]",
            "text/plain": [
              "<Figure size 1800x1080 with 3 Axes>"
            ]
          },
          "metadata": {
            "needs_background": "light"
          },
          "output_type": "display_data"
        }
      ],
      "source": [
        "# Cek outliers menggunakan boxplot\n",
        "\n",
        "plt.figure(figsize = (25, 15))\n",
        "\n",
        "plt.subplot(3, 5, 1)\n",
        "sns.boxplot(y = X_train['parent_salary'])\n",
        "plt.title('Boxplot of parent_salary')\n",
        "\n",
        "plt.subplot(3, 5, 2)\n",
        "sns.boxplot(y = X_train['house_area'])\n",
        "plt.title('Boxplot of house_area')\n",
        "\n",
        "plt.subplot(3, 5, 3)\n",
        "sns.boxplot(y = X_train['average_grades'])\n",
        "plt.title('Boxplot of average_grades')\n",
        "\n",
        "plt.show ()"
      ]
    },
    {
      "cell_type": "markdown",
      "metadata": {},
      "source": [
        "Hasil dari boxplot menunjukan bahwa terdapat outliers pada kolom tersebut"
      ]
    },
    {
      "cell_type": "markdown",
      "metadata": {},
      "source": [
        "### Handling Outliers Menggunakan Teknik Capping Dengan Winsorizer"
      ]
    },
    {
      "cell_type": "code",
      "execution_count": 23,
      "metadata": {},
      "outputs": [],
      "source": [
        "# Create the capper\n",
        "\n",
        "winsoriser = Winsorizer(capping_method='iqr', # choose iqr for IQR rule boundaries or gaussian for mean and std\n",
        "                         tail='both', # cap left, right or both tails \n",
        "                         fold=1.5, # fold 1.5 because skew (skewness > 0.5)\n",
        "                         variables=['parent_salary', 'house_area', 'average_grades'])\n",
        "\n",
        "winsoriser.fit(X_train)\n",
        "\n",
        "X_train_cap = winsoriser.transform(X_train)"
      ]
    },
    {
      "cell_type": "code",
      "execution_count": 24,
      "metadata": {},
      "outputs": [
        {
          "name": "stdout",
          "output_type": "stream",
          "text": [
            "Boston Dataframe - Before Capping\n",
            "       parent_salary  house_area  average_grades\n",
            "count   7.920000e+02  792.000000      792.000000\n",
            "mean    5.371717e+06   74.389899       86.039306\n",
            "std     1.411383e+06   15.511242        3.396060\n",
            "min     1.000000e+06   20.000000       75.000000\n",
            "25%     4.330000e+06   64.475000       83.707500\n",
            "50%     5.430000e+06   75.300000       85.490000\n",
            "75%     6.372500e+06   84.725000       88.137500\n",
            "max     1.000000e+07  120.000000       98.000000\n",
            "\n",
            "Boston Dataframe - After Capping\n",
            "       parent_salary  house_area  average_grades\n",
            "count   7.920000e+02  792.000000      792.000000\n",
            "mean    5.371342e+06   74.450631       86.027809\n",
            "std     1.408174e+06   15.280086        3.336966\n",
            "min     1.266250e+06   34.100000       77.062500\n",
            "25%     4.330000e+06   64.475000       83.707500\n",
            "50%     5.430000e+06   75.300000       85.490000\n",
            "75%     6.372500e+06   84.725000       88.137500\n",
            "max     9.436250e+06  115.100000       94.782500\n"
          ]
        }
      ],
      "source": [
        "# Check Dataset Before & After Capping\n",
        "\n",
        "print('Boston Dataframe - Before Capping')\n",
        "print(X_train.describe())\n",
        "print('')\n",
        "print('Boston Dataframe - After Capping')\n",
        "print(X_train_cap.describe())"
      ]
    },
    {
      "cell_type": "markdown",
      "metadata": {},
      "source": [
        "Terdapat perbedaan mean, standar deviasi, min, dan max setelah dilakukan capping"
      ]
    },
    {
      "cell_type": "code",
      "execution_count": 25,
      "metadata": {},
      "outputs": [
        {
          "data": {
            "image/png": "[encoded data removed]",
            "text/plain": [
              "<Figure size 1800x1080 with 3 Axes>"
            ]
          },
          "metadata": {
            "needs_background": "light"
          },
          "output_type": "display_data"
        }
      ],
      "source": [
        "# Cek outliers menggunakan boxplot\n",
        "\n",
        "plt.figure(figsize = (25, 15))\n",
        "\n",
        "plt.subplot(3, 5, 1)\n",
        "sns.boxplot(y = X_train_cap['parent_salary'])\n",
        "plt.title('Boxplot of parent_salary')\n",
        "\n",
        "plt.subplot(3, 5, 2)\n",
        "sns.boxplot(y = X_train_cap['house_area'])\n",
        "plt.title('Boxplot of house_area')\n",
        "\n",
        "plt.subplot(3, 5, 3)\n",
        "sns.boxplot(y = X_train_cap['average_grades'])\n",
        "plt.title('Boxplot of average_grades')\n",
        "\n",
        "plt.show ()"
      ]
    },
    {
      "cell_type": "markdown",
      "metadata": {},
      "source": [
        "Hasil dari boxplot menunjukan bahwa sudah tidak ditemukan outliers"
      ]
    },
    {
      "cell_type": "markdown",
      "metadata": {},
      "source": [
        "## Handling Missing Values"
      ]
    },
    {
      "cell_type": "code",
      "execution_count": 26,
      "metadata": {},
      "outputs": [
        {
          "data": {
            "text/plain": [
              "type_school             0\n",
              "school_accreditation    0\n",
              "interest                0\n",
              "residence               0\n",
              "parent_salary           0\n",
              "house_area              0\n",
              "average_grades          0\n",
              "dtype: int64"
            ]
          },
          "execution_count": 26,
          "metadata": {},
          "output_type": "execute_result"
        }
      ],
      "source": [
        "# Cek Missing Values Pada X_train\n",
        "\n",
        "X_train.isnull ().sum ()"
      ]
    },
    {
      "cell_type": "code",
      "execution_count": 27,
      "metadata": {},
      "outputs": [
        {
          "data": {
            "text/plain": [
              "type_school             0\n",
              "school_accreditation    0\n",
              "interest                0\n",
              "residence               0\n",
              "parent_salary           0\n",
              "house_area              0\n",
              "average_grades          0\n",
              "dtype: int64"
            ]
          },
          "execution_count": 27,
          "metadata": {},
          "output_type": "execute_result"
        }
      ],
      "source": [
        "# Cek Missing Values Pada X_test\n",
        "\n",
        "X_test.isnull ().sum ()"
      ]
    },
    {
      "cell_type": "code",
      "execution_count": 28,
      "metadata": {},
      "outputs": [
        {
          "data": {
            "text/plain": [
              "will_go_to_college    0\n",
              "dtype: int64"
            ]
          },
          "execution_count": 28,
          "metadata": {},
          "output_type": "execute_result"
        }
      ],
      "source": [
        "# Cek Missing Values Pada y_train\n",
        "\n",
        "y_train.isnull ().sum ()"
      ]
    },
    {
      "cell_type": "code",
      "execution_count": 29,
      "metadata": {},
      "outputs": [
        {
          "data": {
            "text/plain": [
              "will_go_to_college    0\n",
              "dtype: int64"
            ]
          },
          "execution_count": 29,
          "metadata": {},
          "output_type": "execute_result"
        }
      ],
      "source": [
        "# Cek Missing Values Pada y_test\n",
        "\n",
        "y_test.isnull ().sum ()"
      ]
    },
    {
      "cell_type": "markdown",
      "metadata": {},
      "source": [
        "Tidak ditemukan missing values pada dataset"
      ]
    },
    {
      "cell_type": "markdown",
      "metadata": {},
      "source": [
        "## Split between Numerical Columns and Categorical Columns"
      ]
    },
    {
      "cell_type": "code",
      "execution_count": 30,
      "metadata": {},
      "outputs": [
        {
          "name": "stdout",
          "output_type": "stream",
          "text": [
            "Numerical Columns :  ['parent_salary', 'house_area', 'average_grades']\n",
            "Categorical Columns :  ['type_school', 'school_accreditation', 'interest', 'residence']\n"
          ]
        }
      ],
      "source": [
        "# Get Numerical Columns and Categorical Columns\n",
        "\n",
        "num_columns= X_train.select_dtypes(include=np.number).columns.tolist()\n",
        "cat_columns= X_train.select_dtypes(include=['object']).columns.tolist()\n",
        "\n",
        "print('Numerical Columns : ', num_columns)\n",
        "print('Categorical Columns : ', cat_columns)"
      ]
    },
    {
      "cell_type": "code",
      "execution_count": 31,
      "metadata": {},
      "outputs": [],
      "source": [
        "# Split Train-Set and Test-Set based on Column Type\n",
        "\n",
        "X_train_num = X_train[num_columns]\n",
        "X_train_cat_nom = X_train[['type_school']]\n",
        "X_train_cat_ord = X_train[['school_accreditation', 'interest', 'residence']]\n",
        "\n",
        "X_test_num = X_test[num_columns]\n",
        "X_test_cat_nom = X_test[['type_school']]\n",
        "X_test_cat_ord = X_test[['school_accreditation', 'interest', 'residence']]"
      ]
    },
    {
      "cell_type": "markdown",
      "metadata": {},
      "source": [
        "## Feature Scaling"
      ]
    },
    {
      "cell_type": "markdown",
      "metadata": {},
      "source": [
        "Karena kolom `parent_salary, house_area, average_grades` merupakan data yang terdistribusi secara normal, maka untuk Feature Scaling kita menggunakan `StandardScaler`"
      ]
    },
    {
      "cell_type": "code",
      "execution_count": 32,
      "metadata": {},
      "outputs": [],
      "source": [
        "# Feature Scaling using MinMaxScaler\n",
        "\n",
        "scaler_ss = StandardScaler()\n",
        "scaler_ss.fit(X_train_num)\n",
        "\n",
        "X_train_scaled = scaler_ss.transform(X_train_num)\n",
        "X_test_scaled = scaler_ss.transform(X_test_num)"
      ]
    },
    {
      "cell_type": "markdown",
      "metadata": {},
      "source": [
        "## Feature Encoding\n"
      ]
    },
    {
      "cell_type": "markdown",
      "metadata": {},
      "source": [
        "Karena kolom `type_school` merupakan data categorical nominal karena tidak memiliki keterurutan, maka untuk Feature Encoding kita menggunakan `OneHotEncoder`\n",
        "\n",
        "Karena kolom `school_accreditation, interest, residence` merupakan data categorical ordinal karena memiliki keterurutan, maka untuk Feature Encoding kita menggunakan `OrdinalEncoder`"
      ]
    },
    {
      "cell_type": "code",
      "execution_count": 33,
      "metadata": {},
      "outputs": [],
      "source": [
        "# Feature Encoding using Ordinal Encoder\n",
        "\n",
        "encoder_nom = OneHotEncoder()\n",
        "                                     \n",
        "encoder_nom.fit(X_train_cat_nom)\n",
        "\n",
        "X_train_encoded_nom = encoder_nom.transform(X_train_cat_nom).toarray()\n",
        "X_test_encoded_nom = encoder_nom.transform(X_test_cat_nom).toarray()"
      ]
    },
    {
      "cell_type": "code",
      "execution_count": 34,
      "metadata": {},
      "outputs": [],
      "source": [
        "encoder_ord = OrdinalEncoder(categories=[['A', 'B'],\n",
        "                                         ['Not Interested', 'Less Interested', 'Uncertain', 'Interested', 'Very Interested'],\n",
        "                                         ['Rural', 'Urban']])\n",
        "encoder_ord.fit(X_train_cat_ord)\n",
        "\n",
        "X_train_encoded_ord = encoder_ord.transform(X_train_cat_ord)\n",
        "X_test_encoded_ord = encoder_ord.transform(X_test_cat_ord)"
      ]
    },
    {
      "cell_type": "markdown",
      "metadata": {},
      "source": [
        "## Concate Between Numerical Columns and Categorical Columns"
      ]
    },
    {
      "cell_type": "code",
      "execution_count": 35,
      "metadata": {},
      "outputs": [],
      "source": [
        "# Concate Columns\n",
        "\n",
        "X_train_final = np.concatenate([X_train_scaled, X_train_encoded_nom, X_train_encoded_ord], axis=1)\n",
        "X_test_final = np.concatenate([X_test_scaled, X_test_encoded_nom, X_test_encoded_ord], axis=1)"
      ]
    },
    {
      "cell_type": "code",
      "execution_count": 36,
      "metadata": {},
      "outputs": [
        {
          "data": {
            "text/html": [
              "<div>\n",
              "<style scoped>\n",
              "    .dataframe tbody tr th:only-of-type {\n",
              "        vertical-align: middle;\n",
              "    }\n",
              "\n",
              "    .dataframe tbody tr th {\n",
              "        vertical-align: top;\n",
              "    }\n",
              "\n",
              "    .dataframe thead tr th {\n",
              "        text-align: left;\n",
              "    }\n",
              "</style>\n",
              "<table border=\"1\" class=\"dataframe\">\n",
              "  <thead>\n",
              "    <tr>\n",
              "      <th></th>\n",
              "      <th>parent_salary</th>\n",
              "      <th>house_area</th>\n",
              "      <th>average_grades</th>\n",
              "      <th>type_school</th>\n",
              "      <th>type_school</th>\n",
              "      <th>school_accreditation</th>\n",
              "      <th>interest</th>\n",
              "      <th>residence</th>\n",
              "    </tr>\n",
              "  </thead>\n",
              "  <tbody>\n",
              "    <tr>\n",
              "      <th>0</th>\n",
              "      <td>0.509243</td>\n",
              "      <td>-2.605557</td>\n",
              "      <td>-0.748194</td>\n",
              "      <td>1.0</td>\n",
              "      <td>0.0</td>\n",
              "      <td>0.0</td>\n",
              "      <td>3.0</td>\n",
              "      <td>1.0</td>\n",
              "    </tr>\n",
              "    <tr>\n",
              "      <th>1</th>\n",
              "      <td>0.551781</td>\n",
              "      <td>-1.289551</td>\n",
              "      <td>-0.170689</td>\n",
              "      <td>0.0</td>\n",
              "      <td>1.0</td>\n",
              "      <td>0.0</td>\n",
              "      <td>4.0</td>\n",
              "      <td>1.0</td>\n",
              "    </tr>\n",
              "    <tr>\n",
              "      <th>2</th>\n",
              "      <td>-0.986689</td>\n",
              "      <td>0.394163</td>\n",
              "      <td>-0.562567</td>\n",
              "      <td>0.0</td>\n",
              "      <td>1.0</td>\n",
              "      <td>1.0</td>\n",
              "      <td>2.0</td>\n",
              "      <td>0.0</td>\n",
              "    </tr>\n",
              "    <tr>\n",
              "      <th>3</th>\n",
              "      <td>1.849201</td>\n",
              "      <td>1.071519</td>\n",
              "      <td>0.430386</td>\n",
              "      <td>1.0</td>\n",
              "      <td>0.0</td>\n",
              "      <td>1.0</td>\n",
              "      <td>4.0</td>\n",
              "      <td>1.0</td>\n",
              "    </tr>\n",
              "    <tr>\n",
              "      <th>4</th>\n",
              "      <td>1.331651</td>\n",
              "      <td>0.200633</td>\n",
              "      <td>0.946015</td>\n",
              "      <td>0.0</td>\n",
              "      <td>1.0</td>\n",
              "      <td>1.0</td>\n",
              "      <td>2.0</td>\n",
              "      <td>0.0</td>\n",
              "    </tr>\n",
              "    <tr>\n",
              "      <th>...</th>\n",
              "      <td>...</td>\n",
              "      <td>...</td>\n",
              "      <td>...</td>\n",
              "      <td>...</td>\n",
              "      <td>...</td>\n",
              "      <td>...</td>\n",
              "      <td>...</td>\n",
              "      <td>...</td>\n",
              "    </tr>\n",
              "    <tr>\n",
              "      <th>787</th>\n",
              "      <td>-1.617675</td>\n",
              "      <td>-0.315448</td>\n",
              "      <td>-1.269715</td>\n",
              "      <td>1.0</td>\n",
              "      <td>0.0</td>\n",
              "      <td>1.0</td>\n",
              "      <td>4.0</td>\n",
              "      <td>0.0</td>\n",
              "    </tr>\n",
              "    <tr>\n",
              "      <th>788</th>\n",
              "      <td>-1.426252</td>\n",
              "      <td>0.613498</td>\n",
              "      <td>-0.123546</td>\n",
              "      <td>0.0</td>\n",
              "      <td>1.0</td>\n",
              "      <td>1.0</td>\n",
              "      <td>0.0</td>\n",
              "      <td>0.0</td>\n",
              "    </tr>\n",
              "    <tr>\n",
              "      <th>789</th>\n",
              "      <td>-0.859074</td>\n",
              "      <td>-1.734670</td>\n",
              "      <td>-1.249090</td>\n",
              "      <td>0.0</td>\n",
              "      <td>1.0</td>\n",
              "      <td>1.0</td>\n",
              "      <td>3.0</td>\n",
              "      <td>1.0</td>\n",
              "    </tr>\n",
              "    <tr>\n",
              "      <th>790</th>\n",
              "      <td>0.395807</td>\n",
              "      <td>0.013554</td>\n",
              "      <td>-0.344530</td>\n",
              "      <td>0.0</td>\n",
              "      <td>1.0</td>\n",
              "      <td>0.0</td>\n",
              "      <td>2.0</td>\n",
              "      <td>0.0</td>\n",
              "    </tr>\n",
              "    <tr>\n",
              "      <th>791</th>\n",
              "      <td>-0.724370</td>\n",
              "      <td>-0.689607</td>\n",
              "      <td>-0.877837</td>\n",
              "      <td>0.0</td>\n",
              "      <td>1.0</td>\n",
              "      <td>1.0</td>\n",
              "      <td>2.0</td>\n",
              "      <td>1.0</td>\n",
              "    </tr>\n",
              "  </tbody>\n",
              "</table>\n",
              "<p>792 rows × 8 columns</p>\n",
              "</div>"
            ],
            "text/plain": [
              "    parent_salary house_area average_grades type_school type_school  \\\n",
              "0        0.509243  -2.605557      -0.748194         1.0         0.0   \n",
              "1        0.551781  -1.289551      -0.170689         0.0         1.0   \n",
              "2       -0.986689   0.394163      -0.562567         0.0         1.0   \n",
              "3        1.849201   1.071519       0.430386         1.0         0.0   \n",
              "4        1.331651   0.200633       0.946015         0.0         1.0   \n",
              "..            ...        ...            ...         ...         ...   \n",
              "787     -1.617675  -0.315448      -1.269715         1.0         0.0   \n",
              "788     -1.426252   0.613498      -0.123546         0.0         1.0   \n",
              "789     -0.859074  -1.734670      -1.249090         0.0         1.0   \n",
              "790      0.395807   0.013554      -0.344530         0.0         1.0   \n",
              "791     -0.724370  -0.689607      -0.877837         0.0         1.0   \n",
              "\n",
              "    school_accreditation interest residence  \n",
              "0                    0.0      3.0       1.0  \n",
              "1                    0.0      4.0       1.0  \n",
              "2                    1.0      2.0       0.0  \n",
              "3                    1.0      4.0       1.0  \n",
              "4                    1.0      2.0       0.0  \n",
              "..                   ...      ...       ...  \n",
              "787                  1.0      4.0       0.0  \n",
              "788                  1.0      0.0       0.0  \n",
              "789                  1.0      3.0       1.0  \n",
              "790                  0.0      2.0       0.0  \n",
              "791                  1.0      2.0       1.0  \n",
              "\n",
              "[792 rows x 8 columns]"
            ]
          },
          "execution_count": 36,
          "metadata": {},
          "output_type": "execute_result"
        }
      ],
      "source": [
        "# Create DataFrame of `X_train_final`\n",
        "\n",
        "X_train_final_df = pd.DataFrame(X_train_final, columns=[num_columns+['type_school','type_school','school_accreditation', 'interest', 'residence']])\n",
        "X_train_final_df"
      ]
    },
    {
      "cell_type": "markdown",
      "metadata": {
        "id": "Ss3nGJJXH0Iv"
      },
      "source": [
        "# 6 - Model Definition"
      ]
    },
    {
      "cell_type": "markdown",
      "metadata": {
        "id": "-4SFBRnnIoMN"
      },
      "source": [
        "> Bagian ini berisi cell untuk mendefinisikan model. Jelaskan alasan menggunakan suatu algoritma/model, hyperparameter yang dipakai, jenis penggunaan metrics yang dipakai, dan hal lain yang terkait dengan model."
      ]
    },
    {
      "cell_type": "markdown",
      "metadata": {},
      "source": [
        "Notes :\n",
        "\n",
        "- Algoritma Yang Akan Dipakai Adalah Logistic Regression\n",
        "\n",
        "- Metrics Yang Akan Dipakai Untuk Mengevaluasi Adalah Confusion Matrix, Classification Report, dan ROC-AUC Score"
      ]
    },
    {
      "cell_type": "code",
      "execution_count": 37,
      "metadata": {},
      "outputs": [],
      "source": [
        "# Define the Model\n",
        "\n",
        "logreg = LogisticRegression()\n",
        "randf = RandomForestClassifier(random_state = 20)\n",
        "bagclf = BaggingClassifier(random_state = 20)\n",
        "knn = KNeighborsClassifier()"
      ]
    },
    {
      "cell_type": "markdown",
      "metadata": {
        "id": "McrniNTpJJLB"
      },
      "source": [
        "# 7 - Model Training"
      ]
    },
    {
      "cell_type": "markdown",
      "metadata": {
        "id": "avlqS2O-JLRG"
      },
      "source": [
        "> Cell pada bagian ini hanya berisi code untuk melatih model dan output yang dihasilkan. Lakukan beberapa kali proses training dengan hyperparameter yang berbeda untuk melihat hasil yang didapatkan. Analisis dan narasikan hasil ini pada bagian Model Evaluation."
      ]
    },
    {
      "cell_type": "code",
      "execution_count": 38,
      "metadata": {},
      "outputs": [
        {
          "data": {
            "text/plain": [
              "KNeighborsClassifier()"
            ]
          },
          "execution_count": 38,
          "metadata": {},
          "output_type": "execute_result"
        }
      ],
      "source": [
        "# Train the Model\n",
        "\n",
        "logreg.fit (X_train_final, y_train)\n",
        "randf.fit (X_train_final, y_train)\n",
        "bagclf.fit (X_train_final, y_train)\n",
        "knn.fit (X_train_final, y_train)"
      ]
    },
    {
      "cell_type": "markdown",
      "metadata": {},
      "source": [
        "## Cross Validation"
      ]
    },
    {
      "cell_type": "code",
      "execution_count": 39,
      "metadata": {},
      "outputs": [
        {
          "name": "stdout",
          "output_type": "stream",
          "text": [
            "Logistic Regression\n",
            "\n",
            "Cross Validation Score:  [0.85534591 0.86792453 0.86708861 0.82911392 0.87341772]\n",
            "Cross Validation Accuracy:  0.858578138683226\n",
            "Cross Validation Standard Deviation:  0.015865582449522325\n"
          ]
        }
      ],
      "source": [
        "scores = cross_val_score (logreg, X_train_final, y_train, cv = 5)\n",
        "print ('Logistic Regression\\n')\n",
        "print ('Cross Validation Score: ', scores)\n",
        "print (\"Cross Validation Accuracy: \", (scores.mean()))\n",
        "print (\"Cross Validation Standard Deviation: \", (scores.std()))"
      ]
    },
    {
      "cell_type": "code",
      "execution_count": 40,
      "metadata": {},
      "outputs": [
        {
          "name": "stdout",
          "output_type": "stream",
          "text": [
            "Random Forest\n",
            "\n",
            "Cross Validation Score:  [0.86792453 0.93081761 0.87341772 0.91139241 0.88607595]\n",
            "Cross Validation Accuracy:  0.8939256428628294\n",
            "Cross Validation Standard Deviation:  0.0237670171030847\n"
          ]
        }
      ],
      "source": [
        "scores = cross_val_score (randf, X_train_final, y_train, cv = 5)\n",
        "print ('Random Forest\\n')\n",
        "print ('Cross Validation Score: ', scores)\n",
        "print (\"Cross Validation Accuracy: \", (scores.mean()))\n",
        "print (\"Cross Validation Standard Deviation: \", (scores.std()))"
      ]
    },
    {
      "cell_type": "code",
      "execution_count": 41,
      "metadata": {},
      "outputs": [
        {
          "name": "stdout",
          "output_type": "stream",
          "text": [
            "KNN (K - Nearest Neighbors)\n",
            "\n",
            "Cross Validation Score:  [0.86792453 0.88679245 0.91139241 0.89240506 0.86708861]\n",
            "Cross Validation Accuracy:  0.8851206114162885\n",
            "Cross Validation Standard Deviation:  0.016534351336242932\n"
          ]
        }
      ],
      "source": [
        "scores = cross_val_score (knn, X_train_final, y_train, cv = 5)\n",
        "print ('KNN (K - Nearest Neighbors)\\n')\n",
        "print ('Cross Validation Score: ', scores)\n",
        "print (\"Cross Validation Accuracy: \", (scores.mean()))\n",
        "print (\"Cross Validation Standard Deviation: \", (scores.std()))"
      ]
    },
    {
      "cell_type": "code",
      "execution_count": 42,
      "metadata": {},
      "outputs": [
        {
          "name": "stdout",
          "output_type": "stream",
          "text": [
            "Bagging Classification\n",
            "\n",
            "Cross Validation Score:  [0.87421384 0.86792453 0.84177215 0.83544304 0.83544304]\n",
            "Cross Validation Accuracy:  0.8509593185255951\n",
            "Cross Validation Standard Deviation:  0.016700328756348602\n"
          ]
        }
      ],
      "source": [
        "scores = cross_val_score (bagclf, X_train_final, y_train, cv = 5)\n",
        "print ('Bagging Classification\\n')\n",
        "print ('Cross Validation Score: ', scores)\n",
        "print (\"Cross Validation Accuracy: \", (scores.mean()))\n",
        "print (\"Cross Validation Standard Deviation: \", (scores.std()))"
      ]
    },
    {
      "cell_type": "markdown",
      "metadata": {},
      "source": [
        "Dari hasil cross validation yang memiliki accuracy tertinggi dengan standar deviasi yang terkecil adalah KNN"
      ]
    },
    {
      "cell_type": "markdown",
      "metadata": {},
      "source": [
        "## Grid Search"
      ]
    },
    {
      "cell_type": "code",
      "execution_count": 43,
      "metadata": {},
      "outputs": [],
      "source": [
        "param_knn = {'n_neighbors' : [5, 10, 15, 20, 25, 30],\n",
        "             'weights'     : ['uniform', 'distance'],\n",
        "             'algorithm'   : ['auto', 'ball_tree', 'kd_tree', 'brute'],\n",
        "             'leaf_size'   : [10, 20, 30]}"
      ]
    },
    {
      "cell_type": "code",
      "execution_count": 44,
      "metadata": {},
      "outputs": [],
      "source": [
        "knn_gs = GridSearchCV (knn, param_grid = param_knn, cv = 5)"
      ]
    },
    {
      "cell_type": "code",
      "execution_count": 45,
      "metadata": {},
      "outputs": [
        {
          "name": "stdout",
          "output_type": "stream",
          "text": [
            "Best parameters: {'algorithm': 'auto', 'leaf_size': 10, 'n_neighbors': 5, 'weights': 'distance'}\n",
            "Best cross-validation score: 0.8964811718812197\n",
            "Best estimator: KNeighborsClassifier(leaf_size=10, weights='distance')\n"
          ]
        }
      ],
      "source": [
        "knn_gs.fit (X_train_final, y_train)\n",
        "print(\"Best parameters: {}\".format(knn_gs.best_params_))\n",
        "print(\"Best cross-validation score: {}\".format(knn_gs.best_score_))\n",
        "print(\"Best estimator: {}\".format(knn_gs.best_estimator_))"
      ]
    },
    {
      "cell_type": "markdown",
      "metadata": {},
      "source": [
        "Parameter terbaik dengan model KNN adalah 'algorithm': 'auto', 'leaf_size': 10, 'n_neighbors': 5, 'weights': 'distance'"
      ]
    },
    {
      "cell_type": "markdown",
      "metadata": {
        "id": "h3kyflsCJdr9"
      },
      "source": [
        "# 8 - Model Evaluation"
      ]
    },
    {
      "cell_type": "markdown",
      "metadata": {
        "id": "y9Nt5CeCJh_7"
      },
      "source": [
        "> Pada bagian ini, dilakukan evaluasi model yang harus menunjukkan bagaimana performa model berdasarkan metrics yang dipilih. Hal ini harus dibuktikan dengan visualisasi tren performa dan/atau tingkat kesalahan model. Lakukan analisis terkait dengan hasil pada model dan tuliskan hasil analisisnya."
      ]
    },
    {
      "cell_type": "markdown",
      "metadata": {},
      "source": [
        "## Cross Validation Before Grid Search"
      ]
    },
    {
      "cell_type": "code",
      "execution_count": 46,
      "metadata": {},
      "outputs": [
        {
          "name": "stdout",
          "output_type": "stream",
          "text": [
            "KNN (K - Nearest Neighbors)\n",
            "\n",
            "Cross Validation Score:  [0.86792453 0.88679245 0.91139241 0.89240506 0.86708861]\n",
            "Cross Validation Accuracy:  0.8851206114162885\n",
            "Cross Validation Standard Deviation:  0.016534351336242932\n"
          ]
        }
      ],
      "source": [
        "scores = cross_val_score (knn, X_train_final, y_train, cv = 5)\n",
        "print ('KNN (K - Nearest Neighbors)\\n')\n",
        "print ('Cross Validation Score: ', scores)\n",
        "print (\"Cross Validation Accuracy: \", (scores.mean()))\n",
        "print (\"Cross Validation Standard Deviation: \", (scores.std()))"
      ]
    },
    {
      "cell_type": "markdown",
      "metadata": {},
      "source": [
        "## Cross Validation After Grid Search"
      ]
    },
    {
      "cell_type": "code",
      "execution_count": 47,
      "metadata": {},
      "outputs": [
        {
          "name": "stdout",
          "output_type": "stream",
          "text": [
            "KNN (K - Nearest Neighbors)\n",
            "\n",
            "Cross Validation Score:  [0.88050314 0.89937107 0.91772152 0.89240506 0.89240506]\n",
            "Cross Validation Accuracy:  0.8964811718812197\n",
            "Cross Validation Standard Deviation:  0.012231357472881536\n"
          ]
        }
      ],
      "source": [
        "scores = cross_val_score (knn_gs.best_estimator_, X_train_final, y_train, cv = 5)\n",
        "print ('KNN (K - Nearest Neighbors)\\n')\n",
        "print ('Cross Validation Score: ', scores)\n",
        "print (\"Cross Validation Accuracy: \", (scores.mean()))\n",
        "print (\"Cross Validation Standard Deviation: \", (scores.std()))"
      ]
    },
    {
      "cell_type": "markdown",
      "metadata": {},
      "source": [
        "Dilihat dari hasil cross validation setelah dilakukan grid search, accuracy dari model meningkat sebesar 0.01 dan standar deviasinya menurun sebesar 0.004"
      ]
    },
    {
      "cell_type": "markdown",
      "metadata": {},
      "source": [
        "## Logistic Regression"
      ]
    },
    {
      "cell_type": "code",
      "execution_count": 48,
      "metadata": {},
      "outputs": [],
      "source": [
        "# Predict against Train-Set and Test-Set\n",
        "\n",
        "y_pred_train_logreg = logreg.predict (X_train_final)\n",
        "y_pred_test_logreg = logreg.predict (X_test_final)"
      ]
    },
    {
      "cell_type": "code",
      "execution_count": 49,
      "metadata": {},
      "outputs": [
        {
          "data": {
            "image/png": "[encoded data removed]",
            "text/plain": [
              "<Figure size 432x288 with 2 Axes>"
            ]
          },
          "metadata": {
            "needs_background": "light"
          },
          "output_type": "display_data"
        }
      ],
      "source": [
        "# Model Evaluation Using Confusion Matrix\n",
        "\n",
        "cm_logreg = confusion_matrix (y_test, y_pred_test_logreg, labels = logreg.classes_)\n",
        "disp_logreg = ConfusionMatrixDisplay (confusion_matrix = cm_logreg, display_labels = logreg.classes_)\n",
        "\n",
        "disp_logreg.plot()\n",
        "plt.show()"
      ]
    },
    {
      "cell_type": "markdown",
      "metadata": {},
      "source": [
        "Dari 98 data aktual false, terdapat 79 data yang benar diprediksi false dan terdapat 19 data yang salah diprediksi false\n",
        "\n",
        "Dari 100 data aktual true, terdapat 86 data yang benar diprediksi true dan terdapat 14 data yang salah diprediksi true"
      ]
    },
    {
      "cell_type": "code",
      "execution_count": 50,
      "metadata": {},
      "outputs": [
        {
          "name": "stdout",
          "output_type": "stream",
          "text": [
            "              precision    recall  f1-score   support\n",
            "\n",
            "       False       0.85      0.81      0.83        98\n",
            "        True       0.82      0.86      0.84       100\n",
            "\n",
            "    accuracy                           0.83       198\n",
            "   macro avg       0.83      0.83      0.83       198\n",
            "weighted avg       0.83      0.83      0.83       198\n",
            "\n"
          ]
        }
      ],
      "source": [
        "# Model Evaluation Using Classification Report\n",
        "\n",
        "print (classification_report(y_test, y_pred_test_logreg))"
      ]
    },
    {
      "cell_type": "markdown",
      "metadata": {},
      "source": [
        "Jumlah data aktual false sebanyak 98 data dengan precision sebesar 85% dan recall 81% pada saat memprediksi false\n",
        "\n",
        "Jumlah data aktual true sebanyak 132 data dengan precision sebesar 82% dan recall 86% pada saat memprediksi true\n",
        "\n",
        "Secara keseluruhan ketepatan memprediksi data sebesar 83%"
      ]
    },
    {
      "cell_type": "code",
      "execution_count": 51,
      "metadata": {},
      "outputs": [
        {
          "data": {
            "text/plain": [
              "0.9263265306122449"
            ]
          },
          "execution_count": 51,
          "metadata": {},
          "output_type": "execute_result"
        }
      ],
      "source": [
        "# Model Evaluation Using ROC-AUC\n",
        "\n",
        "y_pred_proba_logreg = logreg.predict_proba(X_test_final)[:, 1]\n",
        "fpr_logreg, tpr_logreg, _ = roc_curve(y_test, y_pred_proba_logreg)\n",
        "auc_logreg = roc_auc_score(y_test, y_pred_proba_logreg)\n",
        "auc_logreg"
      ]
    },
    {
      "cell_type": "code",
      "execution_count": 52,
      "metadata": {},
      "outputs": [
        {
          "data": {
            "text/plain": [
              "<matplotlib.legend.Legend at 0xcfc03c7d90>"
            ]
          },
          "execution_count": 52,
          "metadata": {},
          "output_type": "execute_result"
        },
        {
          "data": {
            "image/png": "[encoded data removed]",
            "text/plain": [
              "<Figure size 432x288 with 1 Axes>"
            ]
          },
          "metadata": {
            "needs_background": "light"
          },
          "output_type": "display_data"
        }
      ],
      "source": [
        "# Plot ROC-AUC \n",
        "\n",
        "plt.plot(fpr_logreg, tpr_logreg, label=f\"AUC={auc_logreg}\")\n",
        "plt.plot([0,1],[0,1])\n",
        "plt.plot([1,1],[0,1])\n",
        "plt.ylabel(\"TPR\")\n",
        "plt.xlabel(\"FPR\")\n",
        "plt.legend()"
      ]
    },
    {
      "cell_type": "markdown",
      "metadata": {},
      "source": [
        "Hasil score AUC adalah 0.92 artinya luas daerah di bawah kurva sebesar 0.92, berarti model ini termasuk ke dalam kategori excellent classification karena memiliki kinerja membedakan antara kelas + dan kelas -  sebesar 92%"
      ]
    },
    {
      "cell_type": "markdown",
      "metadata": {},
      "source": [
        "## Random Forest"
      ]
    },
    {
      "cell_type": "code",
      "execution_count": 53,
      "metadata": {},
      "outputs": [],
      "source": [
        "# Predict against Train-Set and Test-Set\n",
        "\n",
        "y_pred_train_randf = randf.predict (X_train_final)\n",
        "y_pred_test_randf = randf.predict (X_test_final)"
      ]
    },
    {
      "cell_type": "code",
      "execution_count": 54,
      "metadata": {},
      "outputs": [
        {
          "data": {
            "text/plain": [
              "<sklearn.metrics._plot.confusion_matrix.ConfusionMatrixDisplay at 0xcfc0085190>"
            ]
          },
          "execution_count": 54,
          "metadata": {},
          "output_type": "execute_result"
        },
        {
          "data": {
            "image/png": "[encoded data removed]",
            "text/plain": [
              "<Figure size 432x288 with 2 Axes>"
            ]
          },
          "metadata": {
            "needs_background": "light"
          },
          "output_type": "display_data"
        }
      ],
      "source": [
        "# Model Evaluation Using Confusion Matrix\n",
        "\n",
        "cm_randf = confusion_matrix (y_test, y_pred_test_randf, labels = randf.classes_)\n",
        "disp_randf = ConfusionMatrixDisplay (confusion_matrix = cm_randf, display_labels = randf.classes_)\n",
        "\n",
        "disp_randf.plot ()"
      ]
    },
    {
      "cell_type": "markdown",
      "metadata": {},
      "source": [
        "Dari 98 data aktual false, terdapat 82 data yang benar diprediksi false dan terdapat 16 data yang salah diprediksi false\n",
        "\n",
        "Dari 100 data aktual true, terdapat 85 data yang benar diprediksi true dan terdapat 15 data yang salah diprediksi true"
      ]
    },
    {
      "cell_type": "code",
      "execution_count": 55,
      "metadata": {},
      "outputs": [
        {
          "name": "stdout",
          "output_type": "stream",
          "text": [
            "              precision    recall  f1-score   support\n",
            "\n",
            "       False       0.85      0.84      0.84        98\n",
            "        True       0.84      0.85      0.85       100\n",
            "\n",
            "    accuracy                           0.84       198\n",
            "   macro avg       0.84      0.84      0.84       198\n",
            "weighted avg       0.84      0.84      0.84       198\n",
            "\n"
          ]
        }
      ],
      "source": [
        "# Model Evaluation Using Classification Report\n",
        "\n",
        "print (classification_report(y_test, y_pred_test_randf))"
      ]
    },
    {
      "cell_type": "markdown",
      "metadata": {},
      "source": [
        "Jumlah data aktual false sebanyak 98 data dengan precision sebesar 85% dan recall 84% pada saat memprediksi false\n",
        "\n",
        "Jumlah data aktual true sebanyak 132 data dengan precision sebesar 84% dan recall 85% pada saat memprediksi true\n",
        "\n",
        "Secara keseluruhan ketepatan memprediksi data sebesar 84%"
      ]
    },
    {
      "cell_type": "code",
      "execution_count": 56,
      "metadata": {},
      "outputs": [
        {
          "data": {
            "text/plain": [
              "0.9450510204081632"
            ]
          },
          "execution_count": 56,
          "metadata": {},
          "output_type": "execute_result"
        }
      ],
      "source": [
        "# Model Evaluation Using ROC-AUC\n",
        "\n",
        "y_pred_proba_randf = randf.predict_proba(X_test_final)[:, 1]\n",
        "fpr_randf, tpr_randf, _ = roc_curve(y_test, y_pred_proba_randf)\n",
        "auc_randf = roc_auc_score(y_test, y_pred_proba_randf)\n",
        "auc_randf"
      ]
    },
    {
      "cell_type": "code",
      "execution_count": 57,
      "metadata": {},
      "outputs": [
        {
          "data": {
            "text/plain": [
              "<matplotlib.legend.Legend at 0xcfc043ed60>"
            ]
          },
          "execution_count": 57,
          "metadata": {},
          "output_type": "execute_result"
        },
        {
          "data": {
            "image/png": "[encoded data removed]",
            "text/plain": [
              "<Figure size 432x288 with 1 Axes>"
            ]
          },
          "metadata": {
            "needs_background": "light"
          },
          "output_type": "display_data"
        }
      ],
      "source": [
        "# Plot ROC-AUC \n",
        "\n",
        "plt.plot(fpr_randf, tpr_randf, label=f\"AUC={auc_randf}\")\n",
        "plt.plot([0,1],[0,1])\n",
        "plt.plot([1,1],[0,1])\n",
        "plt.ylabel(\"TPR\")\n",
        "plt.xlabel(\"FPR\")\n",
        "plt.legend ()"
      ]
    },
    {
      "cell_type": "markdown",
      "metadata": {},
      "source": [
        "Hasil score AUC adalah 0.94 artinya luas daerah di bawah kurva sebesar 0.94, berarti model ini termasuk ke dalam kategori excellent classification karena memiliki akurasi dalam membedakan antara kelas + dan kelas - sebesar 94%"
      ]
    },
    {
      "cell_type": "markdown",
      "metadata": {},
      "source": [
        "## Bagging Classifier"
      ]
    },
    {
      "cell_type": "code",
      "execution_count": 58,
      "metadata": {},
      "outputs": [],
      "source": [
        "# Predict against Train-Set and Test-Set\n",
        "\n",
        "y_pred_train_bagclf = bagclf.predict (X_train_final)\n",
        "y_pred_test_bagclf = bagclf.predict (X_test_final)"
      ]
    },
    {
      "cell_type": "code",
      "execution_count": 59,
      "metadata": {},
      "outputs": [
        {
          "data": {
            "image/png": "[encoded data removed]",
            "text/plain": [
              "<Figure size 432x288 with 2 Axes>"
            ]
          },
          "metadata": {
            "needs_background": "light"
          },
          "output_type": "display_data"
        }
      ],
      "source": [
        "# Model Evaluation Using Confusion Matrix\n",
        "\n",
        "cm_bagclf = confusion_matrix (y_test, y_pred_test_bagclf, labels = bagclf.classes_)\n",
        "disp_bagclf = ConfusionMatrixDisplay (confusion_matrix = cm_bagclf, display_labels = bagclf.classes_)\n",
        "\n",
        "disp_bagclf.plot()\n",
        "plt.show()"
      ]
    },
    {
      "cell_type": "markdown",
      "metadata": {},
      "source": [
        "Dari 98 data aktual false, terdapat 84 data yang benar diprediksi false dan terdapat 14 data yang salah diprediksi false\n",
        "\n",
        "Dari 100 data aktual true, terdapat 83 data yang benar diprediksi true dan terdapat 17 data yang salah diprediksi true"
      ]
    },
    {
      "cell_type": "code",
      "execution_count": 60,
      "metadata": {},
      "outputs": [
        {
          "name": "stdout",
          "output_type": "stream",
          "text": [
            "              precision    recall  f1-score   support\n",
            "\n",
            "       False       0.83      0.86      0.84        98\n",
            "        True       0.86      0.83      0.84       100\n",
            "\n",
            "    accuracy                           0.84       198\n",
            "   macro avg       0.84      0.84      0.84       198\n",
            "weighted avg       0.84      0.84      0.84       198\n",
            "\n"
          ]
        }
      ],
      "source": [
        "# Model Evaluation Using Classification Report\n",
        "\n",
        "print (classification_report(y_test, y_pred_test_bagclf))"
      ]
    },
    {
      "cell_type": "markdown",
      "metadata": {},
      "source": [
        "Jumlah data aktual false sebanyak 98 data dengan precision sebesar 83% dan recall 86% pada saat memprediksi false\n",
        "\n",
        "Jumlah data aktual true sebanyak 132 data dengan precision sebesar 86% dan recall 83% pada saat memprediksi true\n",
        "\n",
        "Secara keseluruhan ketepatan memprediksi data sebesar 84%"
      ]
    },
    {
      "cell_type": "code",
      "execution_count": 61,
      "metadata": {},
      "outputs": [
        {
          "data": {
            "text/plain": [
              "0.9015816326530612"
            ]
          },
          "execution_count": 61,
          "metadata": {},
          "output_type": "execute_result"
        }
      ],
      "source": [
        "# Model Evaluation Using ROC-AUC\n",
        "\n",
        "y_pred_proba_bagclf = bagclf.predict_proba(X_test_final)[:, 1]\n",
        "fpr_bagclf, tpr_bagclf, _ = roc_curve(y_test, y_pred_proba_bagclf)\n",
        "auc_bagclf = roc_auc_score(y_test, y_pred_proba_bagclf)\n",
        "auc_bagclf"
      ]
    },
    {
      "cell_type": "code",
      "execution_count": 62,
      "metadata": {},
      "outputs": [
        {
          "data": {
            "text/plain": [
              "<matplotlib.legend.Legend at 0xcfc0055d90>"
            ]
          },
          "execution_count": 62,
          "metadata": {},
          "output_type": "execute_result"
        },
        {
          "data": {
            "image/png": "[encoded data removed]",
            "text/plain": [
              "<Figure size 432x288 with 1 Axes>"
            ]
          },
          "metadata": {
            "needs_background": "light"
          },
          "output_type": "display_data"
        }
      ],
      "source": [
        "# Plot ROC-AUC \n",
        "\n",
        "plt.plot(fpr_bagclf, tpr_bagclf, label=f\"AUC={auc_bagclf}\")\n",
        "plt.plot([0,1],[0,1])\n",
        "plt.plot([1,1],[0,1])\n",
        "plt.ylabel(\"TPR\")\n",
        "plt.xlabel(\"FPR\")\n",
        "plt.legend()"
      ]
    },
    {
      "cell_type": "markdown",
      "metadata": {},
      "source": [
        "Hasil score AUC adalah 0.90 artinya luas daerah di bawah kurva sebesar 0.90, berarti model ini termasuk ke dalam kategori excellent classification karena memiliki akurasi dalam membedakan antara kelas + dan kelas - sebesar 90%"
      ]
    },
    {
      "cell_type": "markdown",
      "metadata": {},
      "source": [
        "## KNN (K - Nearest Neighbors)"
      ]
    },
    {
      "cell_type": "code",
      "execution_count": 63,
      "metadata": {},
      "outputs": [],
      "source": [
        "# Predict against Train-Set and Test-Set\n",
        "\n",
        "y_pred_train_knn = knn.predict (X_train_final)\n",
        "y_pred_test_knn = knn.predict (X_test_final)"
      ]
    },
    {
      "cell_type": "code",
      "execution_count": 64,
      "metadata": {},
      "outputs": [
        {
          "data": {
            "image/png": "[encoded data removed]",
            "text/plain": [
              "<Figure size 432x288 with 2 Axes>"
            ]
          },
          "metadata": {
            "needs_background": "light"
          },
          "output_type": "display_data"
        }
      ],
      "source": [
        "# Model Evaluation Using Confusion Matrix\n",
        "\n",
        "cm_knn = confusion_matrix (y_test, y_pred_test_knn, labels = knn.classes_)\n",
        "disp_knn = ConfusionMatrixDisplay (confusion_matrix = cm_knn, display_labels = knn.classes_)\n",
        "\n",
        "disp_knn.plot()\n",
        "plt.show()"
      ]
    },
    {
      "cell_type": "markdown",
      "metadata": {},
      "source": [
        "Dari 98 data aktual false, terdapat 87 data yang benar diprediksi false dan terdapat 11 data yang salah diprediksi false\n",
        "\n",
        "Dari 100 data aktual true, terdapat 91 data yang benar diprediksi true dan terdapat 9 data yang salah diprediksi true"
      ]
    },
    {
      "cell_type": "code",
      "execution_count": 65,
      "metadata": {},
      "outputs": [
        {
          "name": "stdout",
          "output_type": "stream",
          "text": [
            "              precision    recall  f1-score   support\n",
            "\n",
            "       False       0.91      0.89      0.90        98\n",
            "        True       0.89      0.91      0.90       100\n",
            "\n",
            "    accuracy                           0.90       198\n",
            "   macro avg       0.90      0.90      0.90       198\n",
            "weighted avg       0.90      0.90      0.90       198\n",
            "\n"
          ]
        }
      ],
      "source": [
        "# Model Evaluation Using Classification Report\n",
        "\n",
        "print (classification_report(y_test, y_pred_test_knn))"
      ]
    },
    {
      "cell_type": "markdown",
      "metadata": {},
      "source": [
        "Jumlah data aktual false sebanyak 98 data dengan precision sebesar 91% dan recall 89% pada saat memprediksi false\n",
        "\n",
        "Jumlah data aktual true sebanyak 132 data dengan precision sebesar 89% dan recall 91% pada saat memprediksi true\n",
        "\n",
        "Secara keseluruhan ketepatan memprediksi data sebesar 90%"
      ]
    },
    {
      "cell_type": "code",
      "execution_count": 66,
      "metadata": {},
      "outputs": [
        {
          "data": {
            "text/plain": [
              "0.9547448979591837"
            ]
          },
          "execution_count": 66,
          "metadata": {},
          "output_type": "execute_result"
        }
      ],
      "source": [
        "# Model Evaluation Using ROC-AUC\n",
        "\n",
        "y_pred_proba_knn = knn.predict_proba(X_test_final)[:, 1]\n",
        "fpr_knn, tpr_knn, _ = roc_curve(y_test, y_pred_proba_knn)\n",
        "auc_knn = roc_auc_score(y_test, y_pred_proba_knn)\n",
        "auc_knn"
      ]
    },
    {
      "cell_type": "code",
      "execution_count": 67,
      "metadata": {},
      "outputs": [
        {
          "data": {
            "text/plain": [
              "<matplotlib.legend.Legend at 0xcfbfec3af0>"
            ]
          },
          "execution_count": 67,
          "metadata": {},
          "output_type": "execute_result"
        },
        {
          "data": {
            "image/png": "[encoded data removed]",
            "text/plain": [
              "<Figure size 432x288 with 1 Axes>"
            ]
          },
          "metadata": {
            "needs_background": "light"
          },
          "output_type": "display_data"
        }
      ],
      "source": [
        "# Plot ROC-AUC \n",
        "\n",
        "plt.plot(fpr_knn, tpr_knn, label=f\"AUC={auc_knn}\")\n",
        "plt.plot([0,1],[0,1])\n",
        "plt.plot([1,1],[0,1])\n",
        "plt.ylabel(\"TPR\")\n",
        "plt.xlabel(\"FPR\")\n",
        "plt.legend()"
      ]
    },
    {
      "cell_type": "markdown",
      "metadata": {},
      "source": [
        "Hasil score AUC adalah 0.95 artinya luas daerah di bawah kurva sebesar 0.95, berarti model ini termasuk ke dalam kategori fair classification karena memiliki kinerja membedakan antara kelas + dan kelas -  sebesar 95%"
      ]
    },
    {
      "cell_type": "markdown",
      "metadata": {},
      "source": [
        "## KNN (K - Nearest Neighbors) After Grid Search"
      ]
    },
    {
      "cell_type": "code",
      "execution_count": 68,
      "metadata": {},
      "outputs": [],
      "source": [
        "# Predict against Train-Set and Test-Set\n",
        "\n",
        "y_pred_train_knn_gs = knn_gs.best_estimator_.predict (X_train_final)\n",
        "y_pred_test_knn_gs = knn_gs.best_estimator_.predict (X_test_final)"
      ]
    },
    {
      "cell_type": "code",
      "execution_count": 69,
      "metadata": {},
      "outputs": [
        {
          "data": {
            "image/png": "[encoded data removed]",
            "text/plain": [
              "<Figure size 432x288 with 2 Axes>"
            ]
          },
          "metadata": {
            "needs_background": "light"
          },
          "output_type": "display_data"
        }
      ],
      "source": [
        "# Model Evaluation Using Confusion Matrix\n",
        "\n",
        "cm_knn_gs = confusion_matrix (y_test, y_pred_test_knn_gs, labels = knn_gs.best_estimator_.classes_)\n",
        "disp_knn_gs = ConfusionMatrixDisplay (confusion_matrix = cm_knn_gs, display_labels = knn_gs.best_estimator_.classes_)\n",
        "\n",
        "disp_knn_gs.plot()\n",
        "plt.show()"
      ]
    },
    {
      "cell_type": "markdown",
      "metadata": {},
      "source": [
        "Dari 98 data aktual false, terdapat 86 data yang benar diprediksi false dan terdapat 12 data yang salah diprediksi false\n",
        "\n",
        "Dari 100 data aktual true, terdapat 92 data yang benar diprediksi true dan terdapat 8 data yang salah diprediksi true"
      ]
    },
    {
      "cell_type": "code",
      "execution_count": 70,
      "metadata": {},
      "outputs": [
        {
          "name": "stdout",
          "output_type": "stream",
          "text": [
            "              precision    recall  f1-score   support\n",
            "\n",
            "       False       0.91      0.88      0.90        98\n",
            "        True       0.88      0.92      0.90       100\n",
            "\n",
            "    accuracy                           0.90       198\n",
            "   macro avg       0.90      0.90      0.90       198\n",
            "weighted avg       0.90      0.90      0.90       198\n",
            "\n"
          ]
        }
      ],
      "source": [
        "# Model Evaluation Using Classification Report\n",
        "\n",
        "print (classification_report(y_test, y_pred_test_knn_gs))"
      ]
    },
    {
      "cell_type": "markdown",
      "metadata": {},
      "source": [
        "Jumlah data aktual false sebanyak 98 data dengan precision sebesar 91% dan recall 88% pada saat memprediksi false\n",
        "\n",
        "Jumlah data aktual true sebanyak 132 data dengan precision sebesar 88% dan recall 92% pada saat memprediksi true\n",
        "\n",
        "Secara keseluruhan ketepatan memprediksi data sebesar 90%"
      ]
    },
    {
      "cell_type": "code",
      "execution_count": 71,
      "metadata": {},
      "outputs": [
        {
          "data": {
            "text/plain": [
              "0.9568367346938776"
            ]
          },
          "execution_count": 71,
          "metadata": {},
          "output_type": "execute_result"
        }
      ],
      "source": [
        "# Model Evaluation Using ROC-AUC\n",
        "\n",
        "y_pred_proba_knn_gs = knn_gs.best_estimator_.predict_proba(X_test_final)[:, 1]\n",
        "fpr_knn_gs, tpr_knn_gs, _ = roc_curve(y_test, y_pred_proba_knn_gs)\n",
        "auc_knn_gs = roc_auc_score(y_test, y_pred_proba_knn_gs)\n",
        "auc_knn_gs"
      ]
    },
    {
      "cell_type": "code",
      "execution_count": 72,
      "metadata": {},
      "outputs": [
        {
          "data": {
            "text/plain": [
              "<matplotlib.legend.Legend at 0xcfc17122b0>"
            ]
          },
          "execution_count": 72,
          "metadata": {},
          "output_type": "execute_result"
        },
        {
          "data": {
            "image/png": "[encoded data removed]",
            "text/plain": [
              "<Figure size 432x288 with 1 Axes>"
            ]
          },
          "metadata": {
            "needs_background": "light"
          },
          "output_type": "display_data"
        }
      ],
      "source": [
        "# Plot ROC-AUC \n",
        "\n",
        "plt.plot(fpr_knn_gs, tpr_knn_gs, label=f\"AUC={auc_knn_gs}\")\n",
        "plt.plot([0,1],[0,1])\n",
        "plt.plot([1,1],[0,1])\n",
        "plt.ylabel(\"TPR\")\n",
        "plt.xlabel(\"FPR\")\n",
        "plt.legend()"
      ]
    },
    {
      "cell_type": "markdown",
      "metadata": {},
      "source": [
        "Hasil score AUC adalah 0.95 artinya luas daerah di bawah kurva sebesar 0.95, berarti model ini termasuk ke dalam kategori fair classification karena memiliki kinerja membedakan antara kelas + dan kelas -  sebesar 95%"
      ]
    },
    {
      "cell_type": "markdown",
      "metadata": {
        "id": "_vtLZMptPUDR"
      },
      "source": [
        "# 9 - Model Inference"
      ]
    },
    {
      "cell_type": "markdown",
      "metadata": {},
      "source": [
        "> Model yang sudah dilatih akan dicoba pada data yang bukan termasuk ke dalam train-set ataupun test-set. Data ini harus dalam format yang asli, bukan data yang sudah di-scaled."
      ]
    },
    {
      "cell_type": "markdown",
      "metadata": {},
      "source": [
        "## Make Pipeline"
      ]
    },
    {
      "cell_type": "code",
      "execution_count": 73,
      "metadata": {},
      "outputs": [],
      "source": [
        "num_col = ['parent_salary', 'house_area', 'average_grades']\n",
        "cat_nom = ['type_school']\n",
        "cat_ord = ['school_accreditation', 'interest', 'residence']\n",
        "\n",
        "preprocessing = ColumnTransformer ([('normal', StandardScaler (), num_col),\n",
        "                                    ('nominal', OneHotEncoder (), cat_nom),\n",
        "                                    ('ordinal', OrdinalEncoder (), cat_ord)])"
      ]
    },
    {
      "cell_type": "code",
      "execution_count": 74,
      "metadata": {},
      "outputs": [],
      "source": [
        "pipe_knn_gs = Pipeline ([('capping', Winsorizer ()),\n",
        "                         ('prep', preprocessing),\n",
        "                         ('model', KNeighborsClassifier (leaf_size=10, weights='distance'))])"
      ]
    },
    {
      "cell_type": "code",
      "execution_count": 75,
      "metadata": {},
      "outputs": [
        {
          "data": {
            "text/plain": [
              "Pipeline(steps=[('capping', Winsorizer()),\n",
              "                ('prep',\n",
              "                 ColumnTransformer(transformers=[('normal', StandardScaler(),\n",
              "                                                  ['parent_salary',\n",
              "                                                   'house_area',\n",
              "                                                   'average_grades']),\n",
              "                                                 ('nominal', OneHotEncoder(),\n",
              "                                                  ['type_school']),\n",
              "                                                 ('ordinal', OrdinalEncoder(),\n",
              "                                                  ['school_accreditation',\n",
              "                                                   'interest',\n",
              "                                                   'residence'])])),\n",
              "                ('model',\n",
              "                 KNeighborsClassifier(leaf_size=10, weights='distance'))])"
            ]
          },
          "execution_count": 75,
          "metadata": {},
          "output_type": "execute_result"
        }
      ],
      "source": [
        "pipe_knn_gs.fit (X_train, y_train)"
      ]
    },
    {
      "cell_type": "markdown",
      "metadata": {},
      "source": [
        "## Model Saving"
      ]
    },
    {
      "cell_type": "code",
      "execution_count": 76,
      "metadata": {},
      "outputs": [],
      "source": [
        "# Save Model Pipeline\n",
        "\n",
        "with open(\"model.pkl\", \"wb\") as model_file:\n",
        "    pickle.dump(pipe_knn_gs, model_file)"
      ]
    },
    {
      "cell_type": "markdown",
      "metadata": {},
      "source": [
        "## Predict Using Pipeline"
      ]
    },
    {
      "cell_type": "code",
      "execution_count": 77,
      "metadata": {},
      "outputs": [
        {
          "data": {
            "text/html": [
              "<div>\n",
              "<style scoped>\n",
              "    .dataframe tbody tr th:only-of-type {\n",
              "        vertical-align: middle;\n",
              "    }\n",
              "\n",
              "    .dataframe tbody tr th {\n",
              "        vertical-align: top;\n",
              "    }\n",
              "\n",
              "    .dataframe thead th {\n",
              "        text-align: right;\n",
              "    }\n",
              "</style>\n",
              "<table border=\"1\" class=\"dataframe\">\n",
              "  <thead>\n",
              "    <tr style=\"text-align: right;\">\n",
              "      <th></th>\n",
              "      <th>type_school</th>\n",
              "      <th>school_accreditation</th>\n",
              "      <th>gender</th>\n",
              "      <th>interest</th>\n",
              "      <th>residence</th>\n",
              "      <th>parent_age</th>\n",
              "      <th>parent_salary</th>\n",
              "      <th>house_area</th>\n",
              "      <th>average_grades</th>\n",
              "      <th>parent_was_in_college</th>\n",
              "      <th>will_go_to_college</th>\n",
              "    </tr>\n",
              "  </thead>\n",
              "  <tbody>\n",
              "    <tr>\n",
              "      <th>0</th>\n",
              "      <td>Academic</td>\n",
              "      <td>B</td>\n",
              "      <td>Female</td>\n",
              "      <td>Very Interested</td>\n",
              "      <td>Rural</td>\n",
              "      <td>50</td>\n",
              "      <td>7540000</td>\n",
              "      <td>96.5</td>\n",
              "      <td>91.84</td>\n",
              "      <td>True</td>\n",
              "      <td>True</td>\n",
              "    </tr>\n",
              "    <tr>\n",
              "      <th>1</th>\n",
              "      <td>Academic</td>\n",
              "      <td>B</td>\n",
              "      <td>Male</td>\n",
              "      <td>Not Interested</td>\n",
              "      <td>Urban</td>\n",
              "      <td>55</td>\n",
              "      <td>5010000</td>\n",
              "      <td>86.3</td>\n",
              "      <td>82.13</td>\n",
              "      <td>False</td>\n",
              "      <td>True</td>\n",
              "    </tr>\n",
              "    <tr>\n",
              "      <th>2</th>\n",
              "      <td>Vocational</td>\n",
              "      <td>A</td>\n",
              "      <td>Male</td>\n",
              "      <td>Interested</td>\n",
              "      <td>Rural</td>\n",
              "      <td>45</td>\n",
              "      <td>7370000</td>\n",
              "      <td>79.2</td>\n",
              "      <td>86.31</td>\n",
              "      <td>True</td>\n",
              "      <td>True</td>\n",
              "    </tr>\n",
              "    <tr>\n",
              "      <th>3</th>\n",
              "      <td>Academic</td>\n",
              "      <td>B</td>\n",
              "      <td>Female</td>\n",
              "      <td>Uncertain</td>\n",
              "      <td>Rural</td>\n",
              "      <td>45</td>\n",
              "      <td>6270000</td>\n",
              "      <td>71.0</td>\n",
              "      <td>89.08</td>\n",
              "      <td>True</td>\n",
              "      <td>True</td>\n",
              "    </tr>\n",
              "    <tr>\n",
              "      <th>4</th>\n",
              "      <td>Vocational</td>\n",
              "      <td>A</td>\n",
              "      <td>Female</td>\n",
              "      <td>Very Interested</td>\n",
              "      <td>Urban</td>\n",
              "      <td>53</td>\n",
              "      <td>5420000</td>\n",
              "      <td>79.0</td>\n",
              "      <td>87.37</td>\n",
              "      <td>False</td>\n",
              "      <td>True</td>\n",
              "    </tr>\n",
              "    <tr>\n",
              "      <th>5</th>\n",
              "      <td>Academic</td>\n",
              "      <td>B</td>\n",
              "      <td>Male</td>\n",
              "      <td>Less Interested</td>\n",
              "      <td>Urban</td>\n",
              "      <td>57</td>\n",
              "      <td>5080000</td>\n",
              "      <td>88.1</td>\n",
              "      <td>83.57</td>\n",
              "      <td>False</td>\n",
              "      <td>False</td>\n",
              "    </tr>\n",
              "    <tr>\n",
              "      <th>6</th>\n",
              "      <td>Academic</td>\n",
              "      <td>B</td>\n",
              "      <td>Male</td>\n",
              "      <td>Not Interested</td>\n",
              "      <td>Rural</td>\n",
              "      <td>46</td>\n",
              "      <td>7200000</td>\n",
              "      <td>76.0</td>\n",
              "      <td>92.99</td>\n",
              "      <td>True</td>\n",
              "      <td>True</td>\n",
              "    </tr>\n",
              "    <tr>\n",
              "      <th>7</th>\n",
              "      <td>Academic</td>\n",
              "      <td>A</td>\n",
              "      <td>Female</td>\n",
              "      <td>Uncertain</td>\n",
              "      <td>Urban</td>\n",
              "      <td>58</td>\n",
              "      <td>5060000</td>\n",
              "      <td>62.1</td>\n",
              "      <td>88.85</td>\n",
              "      <td>False</td>\n",
              "      <td>False</td>\n",
              "    </tr>\n",
              "    <tr>\n",
              "      <th>8</th>\n",
              "      <td>Vocational</td>\n",
              "      <td>B</td>\n",
              "      <td>Male</td>\n",
              "      <td>Uncertain</td>\n",
              "      <td>Urban</td>\n",
              "      <td>57</td>\n",
              "      <td>4030000</td>\n",
              "      <td>77.8</td>\n",
              "      <td>83.34</td>\n",
              "      <td>True</td>\n",
              "      <td>False</td>\n",
              "    </tr>\n",
              "    <tr>\n",
              "      <th>9</th>\n",
              "      <td>Academic</td>\n",
              "      <td>B</td>\n",
              "      <td>Female</td>\n",
              "      <td>Less Interested</td>\n",
              "      <td>Urban</td>\n",
              "      <td>50</td>\n",
              "      <td>3360000</td>\n",
              "      <td>63.5</td>\n",
              "      <td>84.98</td>\n",
              "      <td>True</td>\n",
              "      <td>False</td>\n",
              "    </tr>\n",
              "  </tbody>\n",
              "</table>\n",
              "</div>"
            ],
            "text/plain": [
              "  type_school school_accreditation  gender         interest residence  \\\n",
              "0    Academic                    B  Female  Very Interested     Rural   \n",
              "1    Academic                    B    Male   Not Interested     Urban   \n",
              "2  Vocational                    A    Male       Interested     Rural   \n",
              "3    Academic                    B  Female        Uncertain     Rural   \n",
              "4  Vocational                    A  Female  Very Interested     Urban   \n",
              "5    Academic                    B    Male  Less Interested     Urban   \n",
              "6    Academic                    B    Male   Not Interested     Rural   \n",
              "7    Academic                    A  Female        Uncertain     Urban   \n",
              "8  Vocational                    B    Male        Uncertain     Urban   \n",
              "9    Academic                    B  Female  Less Interested     Urban   \n",
              "\n",
              "   parent_age  parent_salary  house_area  average_grades  \\\n",
              "0          50        7540000        96.5           91.84   \n",
              "1          55        5010000        86.3           82.13   \n",
              "2          45        7370000        79.2           86.31   \n",
              "3          45        6270000        71.0           89.08   \n",
              "4          53        5420000        79.0           87.37   \n",
              "5          57        5080000        88.1           83.57   \n",
              "6          46        7200000        76.0           92.99   \n",
              "7          58        5060000        62.1           88.85   \n",
              "8          57        4030000        77.8           83.34   \n",
              "9          50        3360000        63.5           84.98   \n",
              "\n",
              "   parent_was_in_college  will_go_to_college  \n",
              "0                   True                True  \n",
              "1                  False                True  \n",
              "2                   True                True  \n",
              "3                   True                True  \n",
              "4                  False                True  \n",
              "5                  False               False  \n",
              "6                   True                True  \n",
              "7                  False               False  \n",
              "8                   True               False  \n",
              "9                   True               False  "
            ]
          },
          "execution_count": 77,
          "metadata": {},
          "output_type": "execute_result"
        }
      ],
      "source": [
        "# Display data_inf\n",
        "\n",
        "data_inf"
      ]
    },
    {
      "cell_type": "code",
      "execution_count": 78,
      "metadata": {},
      "outputs": [],
      "source": [
        "# Split between `X` (Features) and `y` (Target)\n",
        "\n",
        "X_inf = data_inf[['type_school', 'school_accreditation', 'interest', 'residence', 'parent_salary', 'house_area', 'average_grades']]\n",
        "y_inf = data_inf[['will_go_to_college']]"
      ]
    },
    {
      "cell_type": "code",
      "execution_count": 79,
      "metadata": {},
      "outputs": [
        {
          "data": {
            "text/plain": [
              "array([ True,  True,  True,  True,  True,  True,  True,  True, False,\n",
              "       False])"
            ]
          },
          "execution_count": 79,
          "metadata": {},
          "output_type": "execute_result"
        }
      ],
      "source": [
        "y_pred_inf_pipe = pipe_knn_gs.predict (X_inf)\n",
        "y_pred_inf_pipe"
      ]
    },
    {
      "cell_type": "code",
      "execution_count": 80,
      "metadata": {},
      "outputs": [
        {
          "data": {
            "text/html": [
              "<div>\n",
              "<style scoped>\n",
              "    .dataframe tbody tr th:only-of-type {\n",
              "        vertical-align: middle;\n",
              "    }\n",
              "\n",
              "    .dataframe tbody tr th {\n",
              "        vertical-align: top;\n",
              "    }\n",
              "\n",
              "    .dataframe thead th {\n",
              "        text-align: right;\n",
              "    }\n",
              "</style>\n",
              "<table border=\"1\" class=\"dataframe\">\n",
              "  <thead>\n",
              "    <tr style=\"text-align: right;\">\n",
              "      <th></th>\n",
              "      <th>Prediction</th>\n",
              "    </tr>\n",
              "  </thead>\n",
              "  <tbody>\n",
              "    <tr>\n",
              "      <th>0</th>\n",
              "      <td>True</td>\n",
              "    </tr>\n",
              "    <tr>\n",
              "      <th>1</th>\n",
              "      <td>True</td>\n",
              "    </tr>\n",
              "    <tr>\n",
              "      <th>2</th>\n",
              "      <td>True</td>\n",
              "    </tr>\n",
              "    <tr>\n",
              "      <th>3</th>\n",
              "      <td>True</td>\n",
              "    </tr>\n",
              "    <tr>\n",
              "      <th>4</th>\n",
              "      <td>True</td>\n",
              "    </tr>\n",
              "    <tr>\n",
              "      <th>5</th>\n",
              "      <td>True</td>\n",
              "    </tr>\n",
              "    <tr>\n",
              "      <th>6</th>\n",
              "      <td>True</td>\n",
              "    </tr>\n",
              "    <tr>\n",
              "      <th>7</th>\n",
              "      <td>True</td>\n",
              "    </tr>\n",
              "    <tr>\n",
              "      <th>8</th>\n",
              "      <td>False</td>\n",
              "    </tr>\n",
              "    <tr>\n",
              "      <th>9</th>\n",
              "      <td>False</td>\n",
              "    </tr>\n",
              "  </tbody>\n",
              "</table>\n",
              "</div>"
            ],
            "text/plain": [
              "   Prediction\n",
              "0        True\n",
              "1        True\n",
              "2        True\n",
              "3        True\n",
              "4        True\n",
              "5        True\n",
              "6        True\n",
              "7        True\n",
              "8       False\n",
              "9       False"
            ]
          },
          "execution_count": 80,
          "metadata": {},
          "output_type": "execute_result"
        }
      ],
      "source": [
        "# Create Dataframe of Prediction-Set\n",
        "\n",
        "y_pred_inf_df_pipe = pd.DataFrame(y_pred_inf_pipe, columns=['Prediction'])\n",
        "y_pred_inf_df_pipe"
      ]
    },
    {
      "cell_type": "code",
      "execution_count": 81,
      "metadata": {},
      "outputs": [
        {
          "data": {
            "text/html": [
              "<div>\n",
              "<style scoped>\n",
              "    .dataframe tbody tr th:only-of-type {\n",
              "        vertical-align: middle;\n",
              "    }\n",
              "\n",
              "    .dataframe tbody tr th {\n",
              "        vertical-align: top;\n",
              "    }\n",
              "\n",
              "    .dataframe thead th {\n",
              "        text-align: right;\n",
              "    }\n",
              "</style>\n",
              "<table border=\"1\" class=\"dataframe\">\n",
              "  <thead>\n",
              "    <tr style=\"text-align: right;\">\n",
              "      <th></th>\n",
              "      <th>type_school</th>\n",
              "      <th>school_accreditation</th>\n",
              "      <th>gender</th>\n",
              "      <th>interest</th>\n",
              "      <th>residence</th>\n",
              "      <th>parent_age</th>\n",
              "      <th>parent_salary</th>\n",
              "      <th>house_area</th>\n",
              "      <th>average_grades</th>\n",
              "      <th>parent_was_in_college</th>\n",
              "      <th>will_go_to_college</th>\n",
              "      <th>Prediction</th>\n",
              "    </tr>\n",
              "  </thead>\n",
              "  <tbody>\n",
              "    <tr>\n",
              "      <th>0</th>\n",
              "      <td>Academic</td>\n",
              "      <td>B</td>\n",
              "      <td>Female</td>\n",
              "      <td>Very Interested</td>\n",
              "      <td>Rural</td>\n",
              "      <td>50</td>\n",
              "      <td>7540000</td>\n",
              "      <td>96.5</td>\n",
              "      <td>91.84</td>\n",
              "      <td>True</td>\n",
              "      <td>True</td>\n",
              "      <td>True</td>\n",
              "    </tr>\n",
              "    <tr>\n",
              "      <th>1</th>\n",
              "      <td>Academic</td>\n",
              "      <td>B</td>\n",
              "      <td>Male</td>\n",
              "      <td>Not Interested</td>\n",
              "      <td>Urban</td>\n",
              "      <td>55</td>\n",
              "      <td>5010000</td>\n",
              "      <td>86.3</td>\n",
              "      <td>82.13</td>\n",
              "      <td>False</td>\n",
              "      <td>True</td>\n",
              "      <td>True</td>\n",
              "    </tr>\n",
              "    <tr>\n",
              "      <th>2</th>\n",
              "      <td>Vocational</td>\n",
              "      <td>A</td>\n",
              "      <td>Male</td>\n",
              "      <td>Interested</td>\n",
              "      <td>Rural</td>\n",
              "      <td>45</td>\n",
              "      <td>7370000</td>\n",
              "      <td>79.2</td>\n",
              "      <td>86.31</td>\n",
              "      <td>True</td>\n",
              "      <td>True</td>\n",
              "      <td>True</td>\n",
              "    </tr>\n",
              "    <tr>\n",
              "      <th>3</th>\n",
              "      <td>Academic</td>\n",
              "      <td>B</td>\n",
              "      <td>Female</td>\n",
              "      <td>Uncertain</td>\n",
              "      <td>Rural</td>\n",
              "      <td>45</td>\n",
              "      <td>6270000</td>\n",
              "      <td>71.0</td>\n",
              "      <td>89.08</td>\n",
              "      <td>True</td>\n",
              "      <td>True</td>\n",
              "      <td>True</td>\n",
              "    </tr>\n",
              "    <tr>\n",
              "      <th>4</th>\n",
              "      <td>Vocational</td>\n",
              "      <td>A</td>\n",
              "      <td>Female</td>\n",
              "      <td>Very Interested</td>\n",
              "      <td>Urban</td>\n",
              "      <td>53</td>\n",
              "      <td>5420000</td>\n",
              "      <td>79.0</td>\n",
              "      <td>87.37</td>\n",
              "      <td>False</td>\n",
              "      <td>True</td>\n",
              "      <td>True</td>\n",
              "    </tr>\n",
              "    <tr>\n",
              "      <th>5</th>\n",
              "      <td>Academic</td>\n",
              "      <td>B</td>\n",
              "      <td>Male</td>\n",
              "      <td>Less Interested</td>\n",
              "      <td>Urban</td>\n",
              "      <td>57</td>\n",
              "      <td>5080000</td>\n",
              "      <td>88.1</td>\n",
              "      <td>83.57</td>\n",
              "      <td>False</td>\n",
              "      <td>False</td>\n",
              "      <td>True</td>\n",
              "    </tr>\n",
              "    <tr>\n",
              "      <th>6</th>\n",
              "      <td>Academic</td>\n",
              "      <td>B</td>\n",
              "      <td>Male</td>\n",
              "      <td>Not Interested</td>\n",
              "      <td>Rural</td>\n",
              "      <td>46</td>\n",
              "      <td>7200000</td>\n",
              "      <td>76.0</td>\n",
              "      <td>92.99</td>\n",
              "      <td>True</td>\n",
              "      <td>True</td>\n",
              "      <td>True</td>\n",
              "    </tr>\n",
              "    <tr>\n",
              "      <th>7</th>\n",
              "      <td>Academic</td>\n",
              "      <td>A</td>\n",
              "      <td>Female</td>\n",
              "      <td>Uncertain</td>\n",
              "      <td>Urban</td>\n",
              "      <td>58</td>\n",
              "      <td>5060000</td>\n",
              "      <td>62.1</td>\n",
              "      <td>88.85</td>\n",
              "      <td>False</td>\n",
              "      <td>False</td>\n",
              "      <td>True</td>\n",
              "    </tr>\n",
              "    <tr>\n",
              "      <th>8</th>\n",
              "      <td>Vocational</td>\n",
              "      <td>B</td>\n",
              "      <td>Male</td>\n",
              "      <td>Uncertain</td>\n",
              "      <td>Urban</td>\n",
              "      <td>57</td>\n",
              "      <td>4030000</td>\n",
              "      <td>77.8</td>\n",
              "      <td>83.34</td>\n",
              "      <td>True</td>\n",
              "      <td>False</td>\n",
              "      <td>False</td>\n",
              "    </tr>\n",
              "    <tr>\n",
              "      <th>9</th>\n",
              "      <td>Academic</td>\n",
              "      <td>B</td>\n",
              "      <td>Female</td>\n",
              "      <td>Less Interested</td>\n",
              "      <td>Urban</td>\n",
              "      <td>50</td>\n",
              "      <td>3360000</td>\n",
              "      <td>63.5</td>\n",
              "      <td>84.98</td>\n",
              "      <td>True</td>\n",
              "      <td>False</td>\n",
              "      <td>False</td>\n",
              "    </tr>\n",
              "  </tbody>\n",
              "</table>\n",
              "</div>"
            ],
            "text/plain": [
              "  type_school school_accreditation  gender         interest residence  \\\n",
              "0    Academic                    B  Female  Very Interested     Rural   \n",
              "1    Academic                    B    Male   Not Interested     Urban   \n",
              "2  Vocational                    A    Male       Interested     Rural   \n",
              "3    Academic                    B  Female        Uncertain     Rural   \n",
              "4  Vocational                    A  Female  Very Interested     Urban   \n",
              "5    Academic                    B    Male  Less Interested     Urban   \n",
              "6    Academic                    B    Male   Not Interested     Rural   \n",
              "7    Academic                    A  Female        Uncertain     Urban   \n",
              "8  Vocational                    B    Male        Uncertain     Urban   \n",
              "9    Academic                    B  Female  Less Interested     Urban   \n",
              "\n",
              "   parent_age  parent_salary  house_area  average_grades  \\\n",
              "0          50        7540000        96.5           91.84   \n",
              "1          55        5010000        86.3           82.13   \n",
              "2          45        7370000        79.2           86.31   \n",
              "3          45        6270000        71.0           89.08   \n",
              "4          53        5420000        79.0           87.37   \n",
              "5          57        5080000        88.1           83.57   \n",
              "6          46        7200000        76.0           92.99   \n",
              "7          58        5060000        62.1           88.85   \n",
              "8          57        4030000        77.8           83.34   \n",
              "9          50        3360000        63.5           84.98   \n",
              "\n",
              "   parent_was_in_college  will_go_to_college  Prediction  \n",
              "0                   True                True        True  \n",
              "1                  False                True        True  \n",
              "2                   True                True        True  \n",
              "3                   True                True        True  \n",
              "4                  False                True        True  \n",
              "5                  False               False        True  \n",
              "6                   True                True        True  \n",
              "7                  False               False        True  \n",
              "8                   True               False       False  \n",
              "9                   True               False       False  "
            ]
          },
          "execution_count": 81,
          "metadata": {},
          "output_type": "execute_result"
        }
      ],
      "source": [
        "# Concate Between Inference-Set And Prediction-Set\n",
        "\n",
        "pd.concat([data_inf, y_pred_inf_df_pipe], axis=1)"
      ]
    },
    {
      "cell_type": "markdown",
      "metadata": {
        "id": "k5CvLotdSDX0"
      },
      "source": [
        "# 10 - Pengambilan Kesimpulan"
      ]
    },
    {
      "cell_type": "markdown",
      "metadata": {
        "id": "rRL_IwX8SGOG"
      },
      "source": [
        "> Pada bagian terakhir ini, harus berisi kesimpulan yang mencerminkan hasil yang didapat dengan objective yang sudah ditulis di bagian pengenalan."
      ]
    },
    {
      "cell_type": "markdown",
      "metadata": {},
      "source": [
        "1. Narasi based on EDA\n",
        "\n",
        "Jika dilihat dari grafik, orang yang lanjut kuliah memiliki rata - rata house_area, average_grades, parent_salary yang lebih besar\n",
        "\n",
        "Jika dilihat dari nilai minimal, orang yang lanjut kuliah memiliki average_grades sebesar 75 mungkin ini standar nilai rata-rata agar bisa lanjut kuliah dan parent_salary sebesar 1000000 mungkin ini standar biaya agar bisa membayar perkuliahan\n",
        "\n",
        "Dan ternyata orang yang mempunyai average_grades dan parent_salary yang lebih dari minimal belum tentu lanjut kuliah \n",
        "\n",
        "Ternyata orang yang mempunyai `interest` tinggi, kenyataanya belum tentu lanjut kuliah, bisa dilihat pada kasus `Interested` yang seharusnya berminat lanjut kuliah tetapi pada kenyataannya lebih banyak yang tidak lanjut kuliah\n",
        "\n",
        "Namun orang yang mempunyai `interest` rendah, kenyataanya belum tentu tidak lanjut kulia, bisa dilihat pada kasus `Not Interested` yang seharusnya tidak berminat lanjut kuliah tetapi pada kenyataanya lebih banyak yang lanjut kuliah \n",
        "\n",
        "Ternyata orang yang `Very Interested` untuk lanjut kuliah tidak memiliki rata-rata nilai yang tinggi, melainkan orang yang `Not Interested` untuk lanjut kuliah memiliki rata-rata nilai yang lebih tinggi\n",
        "\n",
        "Orang yang tinggal di Rural (pedesaan) memiliki rata-rata nilai yang lebih tinggi\n",
        "\n",
        "Orang yang bersekolah di sekolah Academic memiliki rata-rata nilai yang lebih tingg\n",
        "\n",
        "Orang yang bersekolah di sekolah dengan akreditasi B memiliki rata-rata nilai yang lebih tinggi\n",
        "\n",
        "Berdasarkan grafik, dapat diketahui bahwa data kita masih tergolong balance karena memiliki persentase data yang sama yaitu 50% :50%\n",
        "\n",
        "2. Narasi based on Model Evaluation\n",
        "\n",
        "Dari 4 model yang ada, semua model termasuk ke kategori excellent classification karena memiliki akurasi dalam membedakan antara kelas + dan kelas - lebih besar dari 90%\n",
        "\n",
        "Setelah dilakukan grid search pada model KNN, hasil cross validation menunjukkan accuracy dari model meningkat sebesar 0.01 dan standar deviasinya menurun sebesar 0.004\n",
        "\n",
        "3. Narasi based on Model Analysis\n",
        "\n",
        "Dari ke - 4 model yang dipakai tidak ada model yang yang jelek karena semua model memiliki akurasi di atas 90% berdasarkan AUC Score\n",
        "\n",
        "Model yang paling baik diantara 4 model tersebut adalah KNN dengan nilai ROC-AUC Score sebesar 0.95 yang berarti model tersebut memiliki kinerja membedakan antara kelas + dan kelas - sebesar 95%\n",
        "\n",
        "4. Further Improvement\n",
        "\n",
        "Mungkin agar lebih sempurna, pada model bisa lebih mengoptimalkan hyperparameter yang dipakai dengan mencoba dari trial and error menggunakan hyperparameter yang lain yang pengaplikasiannya lebih tepat pada dataset yang kita gunakan"
      ]
    }
  ],
  "metadata": {
    "colab": {
      "collapsed_sections": [],
      "name": "P1W1D1PM - 20220613 - FTDS-012 - Machine Learning Problem Framing.ipynb",
      "provenance": [],
      "toc_visible": true
    },
    "kernelspec": {
      "display_name": "Python 3.9.12 ('base')",
      "language": "python",
      "name": "python3"
    },
    "language_info": {
      "codemirror_mode": {
        "name": "ipython",
        "version": 3
      },
      "file_extension": ".py",
      "mimetype": "text/x-python",
      "name": "python",
      "nbconvert_exporter": "python",
      "pygments_lexer": "ipython3",
      "version": "3.9.12"
    },
    "vscode": {
      "interpreter": {
        "hash": "9c1d5a056f04d97314a9f946bc8c5185004572d3d68312220c0ba298420421f7"
      }
    }
  },
  "nbformat": 4,
  "nbformat_minor": 0
}
